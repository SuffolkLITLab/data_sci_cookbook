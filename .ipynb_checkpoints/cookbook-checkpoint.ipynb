{
 "cells": [
  {
   "cell_type": "markdown",
   "metadata": {},
   "source": [
    "# The LIT Lab Data Science Cookbook\n",
    "\n",
    "After setting up Jupyter notebooks ([instructions](https://github.com/colarusso/measured_justice/blob/master/README.md#download-install-and-run-notebooks)), create a new file directory on your computer and download the following files to that directory: (1) [workflow.ipynb](https://suffolklitlab.github.io/data_sci_cookbook/cookbook.ipynb); (2) [table_1.csv](https://suffolklitlab.github.io/data_sci_cookbook/table_1.csv); and (3) [table_2.csv](https://suffolklitlab.github.io/data_sci_cookbook/table_2.csv) (e.g., right-click and \"save link as\"). Note: The following is a Python 3 notebook. Keep this in mind when selecting a version of notebooks.\n",
    "\n",
    "Open your local copy of `cookbook.ipynb` as a notebook, and follow along. That means running each of the code cells as you read. "
   ]
  },
  {
   "cell_type": "markdown",
   "metadata": {},
   "source": [
    "## A Rose by any Other Name (Terms of Art)\n",
    "\n",
    "Just like law, data science makes use of words in a peculiar way. Often the venacular use gives you a sense of what is meant, but behind that is a set of shared assumptions. So let's define some terms and explore a few concepts particular to the Python programing language. Most of these concepts are generalizable to other languages, but since we'll be using Python, we'll stick with that. \n",
    "\n",
    "### Varaibles (names for your data)\n",
    "\n",
    "Variables are containers for data. To define a variable you type the variable name, an equal sign, and then the content, like so:"
   ]
  },
  {
   "cell_type": "code",
   "execution_count": 1,
   "metadata": {
    "collapsed": true,
    "scrolled": false
   },
   "outputs": [],
   "source": [
    "variable_example = \"content goes here\""
   ]
  },
  {
   "cell_type": "markdown",
   "metadata": {},
   "source": [
    "Running that cell didn't produce any out put. Did something really happen? Well, let's see. Including a variable at the end of a code block (e.g., one of these cells) will cause it to spit out its contents for viewing when run, like so:"
   ]
  },
  {
   "cell_type": "code",
   "execution_count": 2,
   "metadata": {
    "scrolled": false
   },
   "outputs": [
    {
     "data": {
      "text/plain": [
       "'content goes here'"
      ]
     },
     "execution_count": 2,
     "metadata": {},
     "output_type": "execute_result"
    }
   ],
   "source": [
    "variable_example"
   ]
  },
  {
   "cell_type": "markdown",
   "metadata": {},
   "source": [
    "If you want to see the contents of multiple variables in a code block when it is run, you will need to use the print function. Here's are some examples"
   ]
  },
  {
   "cell_type": "code",
   "execution_count": 3,
   "metadata": {
    "scrolled": false
   },
   "outputs": [
    {
     "name": "stdout",
     "output_type": "stream",
     "text": [
      "content\n",
      "more content\n",
      "content more content\n"
     ]
    }
   ],
   "source": [
    "variable_example_1 = \"content\"\n",
    "print(variable_example_1)\n",
    "\n",
    "variable_example_2 = \"more content\"\n",
    "print(variable_example_2)\n",
    "\n",
    "print(variable_example_1,variable_example_2)"
   ]
  },
  {
   "cell_type": "markdown",
   "metadata": {},
   "source": [
    "If you want to mix in some text for context and to make things easier to read, you can do so like this:"
   ]
  },
  {
   "cell_type": "code",
   "execution_count": 4,
   "metadata": {
    "scrolled": false
   },
   "outputs": [
    {
     "name": "stdout",
     "output_type": "stream",
     "text": [
      "Variable One: content \n",
      "Varaible Two: more content\n"
     ]
    }
   ],
   "source": [
    "print(\"Variable One:\",variable_example_1,\"\\nVaraible Two:\",variable_example_2) "
   ]
  },
  {
   "cell_type": "markdown",
   "metadata": {},
   "source": [
    "Note: `\\n` is code for *new line*. There are actually a lot of ways to mix text and variables, but this will do for now.\n",
    "\n",
    "A quick word about *functions.* A function is like a little program that you can pass information to. In the case of the print function, you pass it some data and it spits it out to the screen/notebook. We'll see more functions later on. So keep this in mind. \n",
    "\n",
    "## Datatypes (containers for your data)\n",
    "\n",
    "There are different types of containers (datatypes). For our purposes, you need to know about: \n",
    "\n",
    "**(1) Numbers.** Created by typing a number with no quotes. There are actually several types of number-based datatypes, but we'll save that discussion for later."
   ]
  },
  {
   "cell_type": "code",
   "execution_count": 5,
   "metadata": {
    "scrolled": false
   },
   "outputs": [
    {
     "name": "stdout",
     "output_type": "stream",
     "text": [
      "number_example = 1\n"
     ]
    }
   ],
   "source": [
    "number_example = 1 \n",
    "print(\"number_example =\",number_example)"
   ]
  },
  {
   "cell_type": "markdown",
   "metadata": {},
   "source": [
    "**(2) Strings.** Created by typing a string of text (which can inlude numbers, special characters, and the like) inside quotes. "
   ]
  },
  {
   "cell_type": "code",
   "execution_count": 6,
   "metadata": {
    "scrolled": false
   },
   "outputs": [
    {
     "name": "stdout",
     "output_type": "stream",
     "text": [
      "string 1: this worked too \n",
      "string 2: This is were the content goes! Ain't that cool\n"
     ]
    }
   ],
   "source": [
    "string_example = 'this worked too'\n",
    "another_string_example = \"This is were the content goes! Ain't that cool\" \n",
    "print(\"string 1:\",string_example,\"\\nstring 2:\",another_string_example)"
   ]
  },
  {
   "cell_type": "markdown",
   "metadata": {},
   "source": [
    "Note: by using double quotes in the second string I didn't have to worry about the single quote/apostrophe closing the container. Another option to avoid this proablem (when a string contains the character used to define the string's boundaries) is to use an escape character. In python that character is a `\\`. Placing it infront of the closing character will cause it to be treated as that character not the end of the string. We've seen `\\` before as part of a specal \"code\" for a *new line*. For more on this, like how to make insert a tab, see https://www.codecademy.com/en/forum_questions/52f31477282ae3c473002317 "
   ]
  },
  {
   "cell_type": "code",
   "execution_count": 7,
   "metadata": {
    "scrolled": false
   },
   "outputs": [
    {
     "name": "stdout",
     "output_type": "stream",
     "text": [
      "This string contains a contraction and a quote, \"Ain't that cool?\"\n"
     ]
    }
   ],
   "source": [
    "messy_string = \"This string contains a contraction and a quote, \\\"Ain't that cool?\\\"\"\n",
    "print(messy_string)"
   ]
  },
  {
   "cell_type": "markdown",
   "metadata": {},
   "source": [
    "We're not going to use this here, but you can also use triple quotes to create multi-line strings."
   ]
  },
  {
   "cell_type": "code",
   "execution_count": 8,
   "metadata": {
    "scrolled": false
   },
   "outputs": [
    {
     "name": "stdout",
     "output_type": "stream",
     "text": [
      "  \n",
      "                This is a mult-line string with a contraction and quote. \n",
      "                \"Ain't that cool?\"\n",
      "\n"
     ]
    }
   ],
   "source": [
    "big_string = \"\"\"  \n",
    "                This is a mult-line string with a contraction and quote. \n",
    "                \"Ain't that cool?\"\n",
    "\"\"\"\n",
    "\n",
    "print(big_string)"
   ]
  },
  {
   "cell_type": "markdown",
   "metadata": {},
   "source": [
    "**(3) Lists.** Created by placing strings or numbers inside brackets and seperated by commas."
   ]
  },
  {
   "cell_type": "code",
   "execution_count": 9,
   "metadata": {
    "scrolled": false
   },
   "outputs": [
    {
     "name": "stdout",
     "output_type": "stream",
     "text": [
      "['text', 2, 'more text']\n"
     ]
    }
   ],
   "source": [
    "list_example = [\"text\", 2, \"more text\"]\n",
    "print(list_example)"
   ]
  },
  {
   "cell_type": "markdown",
   "metadata": {},
   "source": [
    "**(4) Dataframes.** Unlike the previous datatypes, dataframes don't work in Python out of the box to use a dataframe you have to use a library like [Pandas](https://pandas.pydata.org/). What is a dataframe? Basicly it's a table of data, like a spreadsheet. You can build a dataframe from scrtach by defining the cloumns and adding rows, but most of the time you'll probably create a dataframe from some existing tabular data, like a csv file. Before we can do any of that though, well need to import the Pandas libary. You can only do this if the library is installed on your computer. If it isn't, you'll get an error. For more on installing a library, check out these [instructions](https://github.com/colarusso/measured_justice/blob/master/README.md#download-install-and-run-notebooks). Anyhow, here's how you load the library. You only have to do this once after opening a notebook. So customarily, I place all my load calls at the top of my notebooks. However, today we'll take the approch that we'll load things as we need them."
   ]
  },
  {
   "cell_type": "code",
   "execution_count": 10,
   "metadata": {
    "collapsed": true,
    "scrolled": false
   },
   "outputs": [],
   "source": [
    "import pandas as pd"
   ]
  },
  {
   "cell_type": "markdown",
   "metadata": {},
   "source": [
    "The above code is telling your notebook to load the `pandas` library as `pd`. That means that instead of typing out `pandas` when referencing the library we can just type `pd`.\n",
    "\n",
    "Okay, now we're ready to create a dataframe from scratch. Note: instead or `print()`, use `display()` to show the contents of a dataframe."
   ]
  },
  {
   "cell_type": "code",
   "execution_count": 11,
   "metadata": {
    "scrolled": false
   },
   "outputs": [
    {
     "data": {
      "text/html": [
       "<div>\n",
       "<style>\n",
       "    .dataframe thead tr:only-child th {\n",
       "        text-align: right;\n",
       "    }\n",
       "\n",
       "    .dataframe thead th {\n",
       "        text-align: left;\n",
       "    }\n",
       "\n",
       "    .dataframe tbody tr th {\n",
       "        vertical-align: top;\n",
       "    }\n",
       "</style>\n",
       "<table border=\"1\" class=\"dataframe\">\n",
       "  <thead>\n",
       "    <tr style=\"text-align: right;\">\n",
       "      <th></th>\n",
       "      <th>id</th>\n",
       "      <th>thing</th>\n",
       "    </tr>\n",
       "  </thead>\n",
       "  <tbody>\n",
       "    <tr>\n",
       "      <th>0</th>\n",
       "      <td>1</td>\n",
       "      <td>Thing 1</td>\n",
       "    </tr>\n",
       "  </tbody>\n",
       "</table>\n",
       "</div>"
      ],
      "text/plain": [
       "  id    thing\n",
       "0  1  Thing 1"
      ]
     },
     "metadata": {},
     "output_type": "display_data"
    }
   ],
   "source": [
    "# create an empty dataframe\n",
    "df_example = pd.DataFrame([],columns=[\"id\",\"thing\"]) \n",
    "\n",
    "# append a new row\n",
    "df_example = df_example.append(pd.DataFrame([[1,\"Thing 1\"]], columns=[\"id\",\"thing\"]), ignore_index=True)\n",
    "\n",
    "display(df_example)"
   ]
  },
  {
   "cell_type": "markdown",
   "metadata": {},
   "source": [
    "Did you catch what I did there with comments? That's right, you can comment out text in your code by placing a `#` in front of it. Commenting something out just means that when the code runs it will be ignored. If you didn't do this, you'd get all sorts of errors as \"create an empyty data frame\" isn't a valid python command. Likewise, you can comment out code so that it won't run when the cell runs. This can be useful if you want to keep something around to remind you of another way you might have done something. \n",
    "\n",
    "**Why data types?** Because you can do different things with different datatypes. The most obvious is math. You can't do math on strings. Consider the following two examples: "
   ]
  },
  {
   "cell_type": "code",
   "execution_count": 12,
   "metadata": {
    "scrolled": false
   },
   "outputs": [
    {
     "name": "stdout",
     "output_type": "stream",
     "text": [
      "1 + 2 = 3\n",
      "1 + 2 = 12\n"
     ]
    }
   ],
   "source": [
    "x = 1\n",
    "y = 2\n",
    "z = x + y\n",
    "print(x,\"+\",y,\"=\",z)\n",
    "\n",
    "# versus\n",
    "\n",
    "x = \"1\"\n",
    "y = \"2\"\n",
    "z = x + y\n",
    "print(x,\"+\",y,\"=\",z)"
   ]
  },
  {
   "cell_type": "markdown",
   "metadata": {},
   "source": [
    "That second expression isn't saying that 1 + 2 = 12. It's taking the string \"1\" and \"adding\" the string \"2\" to the end.\n",
    "\n",
    "**So how do I do math?** For the most part you just type things out like you might on a calulator. You have to make sure to use the right characters however. For a list of these, check out this [article on Operators](https://www.programiz.com/python-programming/operators)."
   ]
  },
  {
   "cell_type": "markdown",
   "metadata": {},
   "source": [
    "## Load and Peek at Your Data\n",
    "\n",
    "As mentioned above, you're probably going to be loading data into dataframes from a file. So let's give that a try. "
   ]
  },
  {
   "cell_type": "code",
   "execution_count": 13,
   "metadata": {
    "scrolled": false
   },
   "outputs": [
    {
     "data": {
      "text/html": [
       "<div>\n",
       "<style>\n",
       "    .dataframe thead tr:only-child th {\n",
       "        text-align: right;\n",
       "    }\n",
       "\n",
       "    .dataframe thead th {\n",
       "        text-align: left;\n",
       "    }\n",
       "\n",
       "    .dataframe tbody tr th {\n",
       "        vertical-align: top;\n",
       "    }\n",
       "</style>\n",
       "<table border=\"1\" class=\"dataframe\">\n",
       "  <thead>\n",
       "    <tr style=\"text-align: right;\">\n",
       "      <th></th>\n",
       "      <th>date</th>\n",
       "      <th>closed</th>\n",
       "      <th>note</th>\n",
       "    </tr>\n",
       "  </thead>\n",
       "  <tbody>\n",
       "    <tr>\n",
       "      <th>0</th>\n",
       "      <td>2/2/2011</td>\n",
       "      <td>yes</td>\n",
       "      <td>NaN</td>\n",
       "    </tr>\n",
       "    <tr>\n",
       "      <th>1</th>\n",
       "      <td>10/29/2012</td>\n",
       "      <td>yes</td>\n",
       "      <td>hurricane</td>\n",
       "    </tr>\n",
       "    <tr>\n",
       "      <th>2</th>\n",
       "      <td>2/8/2013</td>\n",
       "      <td>yes</td>\n",
       "      <td>NaN</td>\n",
       "    </tr>\n",
       "    <tr>\n",
       "      <th>3</th>\n",
       "      <td>2/9/2013</td>\n",
       "      <td>yes</td>\n",
       "      <td>NaN</td>\n",
       "    </tr>\n",
       "    <tr>\n",
       "      <th>4</th>\n",
       "      <td>2/10/2013</td>\n",
       "      <td>yes</td>\n",
       "      <td>NaN</td>\n",
       "    </tr>\n",
       "  </tbody>\n",
       "</table>\n",
       "</div>"
      ],
      "text/plain": [
       "         date closed       note\n",
       "0    2/2/2011    yes        NaN\n",
       "1  10/29/2012    yes  hurricane\n",
       "2    2/8/2013    yes        NaN\n",
       "3    2/9/2013    yes        NaN\n",
       "4   2/10/2013    yes        NaN"
      ]
     },
     "execution_count": 13,
     "metadata": {},
     "output_type": "execute_result"
    }
   ],
   "source": [
    "# Load data into a varaible and peek at it. https://pandas.pydata.org/pandas-docs/stable/generated/pandas.read_csv.html\n",
    "# here you notcie that pandas (abreviated pd) has a way to pull data\n",
    "# directly from a csv and place it in a dataframe\n",
    "\n",
    "df_1 = pd.read_csv('table_1.csv') \n",
    "\n",
    "df_1.head() # I could have encased the df in display(), but since it is the \n",
    "            # thing in the cell, I can count on it to spit out its content.\n",
    "    \n",
    "# This table contains the dates of school closings at Suffolk University, \n",
    "# along with some notes."
   ]
  },
  {
   "cell_type": "code",
   "execution_count": 14,
   "metadata": {
    "scrolled": false
   },
   "outputs": [
    {
     "data": {
      "text/plain": [
       "date      object\n",
       "closed    object\n",
       "note      object\n",
       "dtype: object"
      ]
     },
     "execution_count": 14,
     "metadata": {},
     "output_type": "execute_result"
    }
   ],
   "source": [
    "# Like Lists, dataframes can be made up of different datatypes. We can use '.dtypes'\n",
    "# to see what they are in a paricular instance. \n",
    "\n",
    "df_1.dtypes"
   ]
  },
  {
   "cell_type": "code",
   "execution_count": 15,
   "metadata": {
    "scrolled": false
   },
   "outputs": [
    {
     "data": {
      "text/html": [
       "<div>\n",
       "<style>\n",
       "    .dataframe thead tr:only-child th {\n",
       "        text-align: right;\n",
       "    }\n",
       "\n",
       "    .dataframe thead th {\n",
       "        text-align: left;\n",
       "    }\n",
       "\n",
       "    .dataframe tbody tr th {\n",
       "        vertical-align: top;\n",
       "    }\n",
       "</style>\n",
       "<table border=\"1\" class=\"dataframe\">\n",
       "  <thead>\n",
       "    <tr style=\"text-align: right;\">\n",
       "      <th></th>\n",
       "      <th>date</th>\n",
       "      <th>closed</th>\n",
       "      <th>note</th>\n",
       "    </tr>\n",
       "  </thead>\n",
       "  <tbody>\n",
       "    <tr>\n",
       "      <th>0</th>\n",
       "      <td>2011-02-02</td>\n",
       "      <td>yes</td>\n",
       "      <td>NaN</td>\n",
       "    </tr>\n",
       "    <tr>\n",
       "      <th>1</th>\n",
       "      <td>2012-10-29</td>\n",
       "      <td>yes</td>\n",
       "      <td>hurricane</td>\n",
       "    </tr>\n",
       "    <tr>\n",
       "      <th>2</th>\n",
       "      <td>2013-02-08</td>\n",
       "      <td>yes</td>\n",
       "      <td>NaN</td>\n",
       "    </tr>\n",
       "    <tr>\n",
       "      <th>3</th>\n",
       "      <td>2013-02-09</td>\n",
       "      <td>yes</td>\n",
       "      <td>NaN</td>\n",
       "    </tr>\n",
       "    <tr>\n",
       "      <th>4</th>\n",
       "      <td>2013-02-10</td>\n",
       "      <td>yes</td>\n",
       "      <td>NaN</td>\n",
       "    </tr>\n",
       "  </tbody>\n",
       "</table>\n",
       "</div>"
      ],
      "text/plain": [
       "        date closed       note\n",
       "0 2011-02-02    yes        NaN\n",
       "1 2012-10-29    yes  hurricane\n",
       "2 2013-02-08    yes        NaN\n",
       "3 2013-02-09    yes        NaN\n",
       "4 2013-02-10    yes        NaN"
      ]
     },
     "metadata": {},
     "output_type": "display_data"
    },
    {
     "data": {
      "text/plain": [
       "date      datetime64[ns]\n",
       "closed            object\n",
       "note              object\n",
       "dtype: object"
      ]
     },
     "execution_count": 15,
     "metadata": {},
     "output_type": "execute_result"
    }
   ],
   "source": [
    "# 'Object' is Pandas speak for 'string.' See http://www.datacarpentry.org/python-ecology-lesson/03-data-types-and-format/\n",
    "# That sounds good, but I bet you might want to treat those dates as something other than strings. \n",
    "# That is, I you may want to compare them and add to then, you know math-like things.\n",
    "# Well it so happens that there are date datatypes, and we can tell pandas to treat \n",
    "# specific columns as dates like so:\n",
    "\n",
    "# load file into dataframe\n",
    "df_1 = pd.read_csv('table_1.csv', parse_dates=[0]) \n",
    "\n",
    "# An important thing to note is that python tends to start counting from `0`. \n",
    "# So what the above is saying is that it should treat the first column as a date.\n",
    "\n",
    "# Display the first bit of the dataframe\n",
    "display(df_1.head())\n",
    "\n",
    "# List the datatypes for each column\n",
    "df_1.dtypes"
   ]
  },
  {
   "cell_type": "markdown",
   "metadata": {},
   "source": [
    "We can see that the first column is now the data type `datetime64[ns]`. This isn't a data type native to python, but there are ways to have it play nice with dates in python. That being said, we'll leave that for later.\n",
    "\n",
    "While we're here, what's with all the `NaN` entries under the `note` column? Well if you were to open up the csv file, you'd find that they correspond to nothing, literally nothing, there's no data there. Pandas displays such null (computer speak for empty) values as Not a Number or `NaN`."
   ]
  },
  {
   "cell_type": "code",
   "execution_count": 16,
   "metadata": {
    "scrolled": false
   },
   "outputs": [
    {
     "data": {
      "text/html": [
       "<div>\n",
       "<style>\n",
       "    .dataframe thead tr:only-child th {\n",
       "        text-align: right;\n",
       "    }\n",
       "\n",
       "    .dataframe thead th {\n",
       "        text-align: left;\n",
       "    }\n",
       "\n",
       "    .dataframe tbody tr th {\n",
       "        vertical-align: top;\n",
       "    }\n",
       "</style>\n",
       "<table border=\"1\" class=\"dataframe\">\n",
       "  <thead>\n",
       "    <tr style=\"text-align: right;\">\n",
       "      <th></th>\n",
       "      <th>date</th>\n",
       "      <th>accum</th>\n",
       "      <th>temp_min</th>\n",
       "      <th>temp_max</th>\n",
       "      <th>wind</th>\n",
       "    </tr>\n",
       "  </thead>\n",
       "  <tbody>\n",
       "    <tr>\n",
       "      <th>0</th>\n",
       "      <td>2011-09-01</td>\n",
       "      <td>0.0</td>\n",
       "      <td>62.45</td>\n",
       "      <td>70.80</td>\n",
       "      <td>5.64</td>\n",
       "    </tr>\n",
       "    <tr>\n",
       "      <th>1</th>\n",
       "      <td>2011-09-02</td>\n",
       "      <td>0.0</td>\n",
       "      <td>60.21</td>\n",
       "      <td>67.46</td>\n",
       "      <td>4.80</td>\n",
       "    </tr>\n",
       "    <tr>\n",
       "      <th>2</th>\n",
       "      <td>2011-09-06</td>\n",
       "      <td>0.0</td>\n",
       "      <td>59.26</td>\n",
       "      <td>73.83</td>\n",
       "      <td>4.97</td>\n",
       "    </tr>\n",
       "    <tr>\n",
       "      <th>3</th>\n",
       "      <td>2011-09-07</td>\n",
       "      <td>0.0</td>\n",
       "      <td>59.72</td>\n",
       "      <td>61.98</td>\n",
       "      <td>9.91</td>\n",
       "    </tr>\n",
       "    <tr>\n",
       "      <th>4</th>\n",
       "      <td>2011-09-08</td>\n",
       "      <td>0.0</td>\n",
       "      <td>58.36</td>\n",
       "      <td>65.14</td>\n",
       "      <td>6.01</td>\n",
       "    </tr>\n",
       "  </tbody>\n",
       "</table>\n",
       "</div>"
      ],
      "text/plain": [
       "        date  accum  temp_min  temp_max  wind\n",
       "0 2011-09-01    0.0     62.45     70.80  5.64\n",
       "1 2011-09-02    0.0     60.21     67.46  4.80\n",
       "2 2011-09-06    0.0     59.26     73.83  4.97\n",
       "3 2011-09-07    0.0     59.72     61.98  9.91\n",
       "4 2011-09-08    0.0     58.36     65.14  6.01"
      ]
     },
     "execution_count": 16,
     "metadata": {},
     "output_type": "execute_result"
    }
   ],
   "source": [
    "# Here I have two dataframes. So I'll repeate the above.\n",
    "\n",
    "df_2 = pd.read_csv('table_2.csv', parse_dates=[0]) \n",
    "df_2.head()\n",
    "\n",
    "# This table contains several years of weather information for Suffolk University\n",
    "# The time involved is the same as that of the first dataframe, but there are \n",
    "# missing days."
   ]
  },
  {
   "cell_type": "code",
   "execution_count": 17,
   "metadata": {
    "scrolled": false
   },
   "outputs": [
    {
     "name": "stdout",
     "output_type": "stream",
     "text": [
      "table 1 row count: 28\n",
      "table 2 row count: 951\n"
     ]
    }
   ],
   "source": [
    "# The function `len()` measures how long something is. It doesn't work for all datatypes,\n",
    "# but for a dataframe it counts the number of rows. So let's take a look.\n",
    "print(\"table 1 row count:\",len(df_1))\n",
    "print(\"table 2 row count:\",len(df_2))"
   ]
  },
  {
   "cell_type": "markdown",
   "metadata": {},
   "source": [
    "## Questions?\n",
    "\n",
    "Eventually, we're looking to use this data to answer some question. To do that it will need two types of columns: (1) feautres; and (2) a single column containing the target. The target is what we're trying to predict, and the features are those things that might help predict the target. The data we're working with was collected with the idea that we could predict whether or not Suffolk University would call a snow day. In that senerio, `closed` is our target and everything else is a potential feature.\n",
    "\n",
    "## Recipes for Cleaning (and exploring) Your Data\n",
    "\n",
    "At the end of the day, we're probably going to want all of our data in one table/dataframe. And most likely we're going to want that dataframe to contain only numbers. Why? Because we're focusing on training models, and those modles want nice big tables containing only numbers because those models are statistical in nature. They work by doing math, and remember you can't do math with strings. In truth, it's possible that our model might be okay with a single column not containing numbers as long as that column contained a set of lables (e.g., snow day, no snow day). However, lables can easily be represented by numbers (e.g., 1 = snow day, 0 = no snow day). FYI, it's very common to have 1 mean yes and 2 mean no. \n",
    "\n",
    "Anyhow, the process of cleaning ones data is often called data wrangling or data munging. It's not very exciting, but it's very consequental. I once wrote a brief for the Massachusetts Supreme Judicial Court which was almost entierly a description of data wrangling. So let's get started. "
   ]
  },
  {
   "cell_type": "code",
   "execution_count": 18,
   "metadata": {
    "scrolled": false
   },
   "outputs": [
    {
     "name": "stdout",
     "output_type": "stream",
     "text": [
      "row count: 19\n"
     ]
    },
    {
     "data": {
      "text/html": [
       "<div>\n",
       "<style>\n",
       "    .dataframe thead tr:only-child th {\n",
       "        text-align: right;\n",
       "    }\n",
       "\n",
       "    .dataframe thead th {\n",
       "        text-align: left;\n",
       "    }\n",
       "\n",
       "    .dataframe tbody tr th {\n",
       "        vertical-align: top;\n",
       "    }\n",
       "</style>\n",
       "<table border=\"1\" class=\"dataframe\">\n",
       "  <thead>\n",
       "    <tr style=\"text-align: right;\">\n",
       "      <th></th>\n",
       "      <th>date</th>\n",
       "      <th>accum</th>\n",
       "      <th>temp_min</th>\n",
       "      <th>temp_max</th>\n",
       "      <th>wind</th>\n",
       "      <th>closed</th>\n",
       "      <th>note</th>\n",
       "    </tr>\n",
       "  </thead>\n",
       "  <tbody>\n",
       "    <tr>\n",
       "      <th>0</th>\n",
       "      <td>2012-10-29</td>\n",
       "      <td>0.000</td>\n",
       "      <td>53.03</td>\n",
       "      <td>60.63</td>\n",
       "      <td>24.79</td>\n",
       "      <td>yes</td>\n",
       "      <td>hurricane</td>\n",
       "    </tr>\n",
       "    <tr>\n",
       "      <th>1</th>\n",
       "      <td>2013-02-08</td>\n",
       "      <td>3.824</td>\n",
       "      <td>20.65</td>\n",
       "      <td>32.43</td>\n",
       "      <td>16.51</td>\n",
       "      <td>yes</td>\n",
       "      <td>NaN</td>\n",
       "    </tr>\n",
       "    <tr>\n",
       "      <th>2</th>\n",
       "      <td>2013-03-08</td>\n",
       "      <td>4.196</td>\n",
       "      <td>29.22</td>\n",
       "      <td>41.82</td>\n",
       "      <td>17.65</td>\n",
       "      <td>yes</td>\n",
       "      <td>early facebook</td>\n",
       "    </tr>\n",
       "    <tr>\n",
       "      <th>3</th>\n",
       "      <td>2013-03-19</td>\n",
       "      <td>4.335</td>\n",
       "      <td>29.18</td>\n",
       "      <td>36.48</td>\n",
       "      <td>12.63</td>\n",
       "      <td>yes</td>\n",
       "      <td>NaN</td>\n",
       "    </tr>\n",
       "    <tr>\n",
       "      <th>4</th>\n",
       "      <td>2013-12-17</td>\n",
       "      <td>3.916</td>\n",
       "      <td>9.47</td>\n",
       "      <td>23.46</td>\n",
       "      <td>6.26</td>\n",
       "      <td>yes</td>\n",
       "      <td>early facebook</td>\n",
       "    </tr>\n",
       "  </tbody>\n",
       "</table>\n",
       "</div>"
      ],
      "text/plain": [
       "        date  accum  temp_min  temp_max   wind closed            note\n",
       "0 2012-10-29  0.000     53.03     60.63  24.79    yes       hurricane\n",
       "1 2013-02-08  3.824     20.65     32.43  16.51    yes             NaN\n",
       "2 2013-03-08  4.196     29.22     41.82  17.65    yes  early facebook\n",
       "3 2013-03-19  4.335     29.18     36.48  12.63    yes             NaN\n",
       "4 2013-12-17  3.916      9.47     23.46   6.26    yes  early facebook"
      ]
     },
     "execution_count": 18,
     "metadata": {},
     "output_type": "execute_result"
    }
   ],
   "source": [
    "# You can merge dataframes like so. See https://pandas.pydata.org/pandas-docs/stable/generated/pandas.DataFrame.merge.html\n",
    "single_table = df_2.merge(df_1) \n",
    "print (\"row count:\",len(single_table))\n",
    "single_table.head()"
   ]
  },
  {
   "cell_type": "markdown",
   "metadata": {},
   "source": [
    "That's not right! Why are there only 19 rows? The answer? It has to do with how we joined the tables. There are several ways to join tables, and you should become familar with them. See e.g.: ![joins](https://i.stack.imgur.com/udQpD.jpg) \n",
    "\n",
    "We want a left join on the table of weather data, not the closed dates because the weather data is the larger dataset. By the way, we can also define the colums we want to join. By default this is just columns with the same name, but sometimes you don't always want to join on all such columns. For fun, I just made that explicit in the code."
   ]
  },
  {
   "cell_type": "code",
   "execution_count": 19,
   "metadata": {
    "scrolled": false
   },
   "outputs": [
    {
     "name": "stdout",
     "output_type": "stream",
     "text": [
      "row count: 951\n"
     ]
    },
    {
     "data": {
      "text/html": [
       "<div>\n",
       "<style>\n",
       "    .dataframe thead tr:only-child th {\n",
       "        text-align: right;\n",
       "    }\n",
       "\n",
       "    .dataframe thead th {\n",
       "        text-align: left;\n",
       "    }\n",
       "\n",
       "    .dataframe tbody tr th {\n",
       "        vertical-align: top;\n",
       "    }\n",
       "</style>\n",
       "<table border=\"1\" class=\"dataframe\">\n",
       "  <thead>\n",
       "    <tr style=\"text-align: right;\">\n",
       "      <th></th>\n",
       "      <th>date</th>\n",
       "      <th>accum</th>\n",
       "      <th>temp_min</th>\n",
       "      <th>temp_max</th>\n",
       "      <th>wind</th>\n",
       "      <th>closed</th>\n",
       "      <th>note</th>\n",
       "    </tr>\n",
       "  </thead>\n",
       "  <tbody>\n",
       "    <tr>\n",
       "      <th>0</th>\n",
       "      <td>2011-09-01</td>\n",
       "      <td>0.0</td>\n",
       "      <td>62.45</td>\n",
       "      <td>70.80</td>\n",
       "      <td>5.64</td>\n",
       "      <td>NaN</td>\n",
       "      <td>NaN</td>\n",
       "    </tr>\n",
       "    <tr>\n",
       "      <th>1</th>\n",
       "      <td>2011-09-02</td>\n",
       "      <td>0.0</td>\n",
       "      <td>60.21</td>\n",
       "      <td>67.46</td>\n",
       "      <td>4.80</td>\n",
       "      <td>NaN</td>\n",
       "      <td>NaN</td>\n",
       "    </tr>\n",
       "    <tr>\n",
       "      <th>2</th>\n",
       "      <td>2011-09-06</td>\n",
       "      <td>0.0</td>\n",
       "      <td>59.26</td>\n",
       "      <td>73.83</td>\n",
       "      <td>4.97</td>\n",
       "      <td>NaN</td>\n",
       "      <td>NaN</td>\n",
       "    </tr>\n",
       "    <tr>\n",
       "      <th>3</th>\n",
       "      <td>2011-09-07</td>\n",
       "      <td>0.0</td>\n",
       "      <td>59.72</td>\n",
       "      <td>61.98</td>\n",
       "      <td>9.91</td>\n",
       "      <td>NaN</td>\n",
       "      <td>NaN</td>\n",
       "    </tr>\n",
       "    <tr>\n",
       "      <th>4</th>\n",
       "      <td>2011-09-08</td>\n",
       "      <td>0.0</td>\n",
       "      <td>58.36</td>\n",
       "      <td>65.14</td>\n",
       "      <td>6.01</td>\n",
       "      <td>NaN</td>\n",
       "      <td>NaN</td>\n",
       "    </tr>\n",
       "  </tbody>\n",
       "</table>\n",
       "</div>"
      ],
      "text/plain": [
       "        date  accum  temp_min  temp_max  wind closed note\n",
       "0 2011-09-01    0.0     62.45     70.80  5.64    NaN  NaN\n",
       "1 2011-09-02    0.0     60.21     67.46  4.80    NaN  NaN\n",
       "2 2011-09-06    0.0     59.26     73.83  4.97    NaN  NaN\n",
       "3 2011-09-07    0.0     59.72     61.98  9.91    NaN  NaN\n",
       "4 2011-09-08    0.0     58.36     65.14  6.01    NaN  NaN"
      ]
     },
     "execution_count": 19,
     "metadata": {},
     "output_type": "execute_result"
    }
   ],
   "source": [
    "single_table = df_2.merge(df_1, on='date', how='left') \n",
    "print (\"row count:\",len(single_table))\n",
    "single_table.head()"
   ]
  },
  {
   "cell_type": "code",
   "execution_count": 20,
   "metadata": {
    "scrolled": false
   },
   "outputs": [
    {
     "data": {
      "text/plain": [
       "0    0.0\n",
       "1    0.0\n",
       "2    0.0\n",
       "3    0.0\n",
       "4    0.0\n",
       "Name: accum, dtype: float64"
      ]
     },
     "execution_count": 20,
     "metadata": {},
     "output_type": "execute_result"
    }
   ],
   "source": [
    "# you can look at a single column like this\n",
    "single_table[\"accum\"].head()"
   ]
  },
  {
   "cell_type": "code",
   "execution_count": 21,
   "metadata": {
    "scrolled": false
   },
   "outputs": [
    {
     "name": "stdout",
     "output_type": "stream",
     "text": [
      "0.15149947423764457\n",
      "15.024000000000001\n",
      "0.0\n"
     ]
    }
   ],
   "source": [
    "# fun fact, you can run functions on the contents of a column. For example:\n",
    "\n",
    "# find the mean of the entires:\n",
    "print(single_table[\"accum\"].mean())\n",
    "\n",
    "# find the biggest entry:\n",
    "print(single_table[\"accum\"].max())\n",
    "\n",
    "# find the smallest entry:\n",
    "print(single_table[\"accum\"].min())\n"
   ]
  },
  {
   "cell_type": "code",
   "execution_count": 22,
   "metadata": {
    "scrolled": false
   },
   "outputs": [
    {
     "name": "stdout",
     "output_type": "stream",
     "text": [
      "[nan 'hurricane' 'early facebook' 'facebook' 'early' 'email']\n"
     ]
    }
   ],
   "source": [
    "# And it's not just math, you can explore unique entires by stating the column and using .unique() like this:\n",
    "# https://pandas.pydata.org/pandas-docs/stable/generated/pandas.Series.unique.html\n",
    "print(single_table[\"note\"].unique())"
   ]
  },
  {
   "cell_type": "code",
   "execution_count": 23,
   "metadata": {
    "scrolled": false
   },
   "outputs": [
    {
     "name": "stdout",
     "output_type": "stream",
     "text": [
      "row count: 19\n"
     ]
    },
    {
     "data": {
      "text/html": [
       "<div>\n",
       "<style>\n",
       "    .dataframe thead tr:only-child th {\n",
       "        text-align: right;\n",
       "    }\n",
       "\n",
       "    .dataframe thead th {\n",
       "        text-align: left;\n",
       "    }\n",
       "\n",
       "    .dataframe tbody tr th {\n",
       "        vertical-align: top;\n",
       "    }\n",
       "</style>\n",
       "<table border=\"1\" class=\"dataframe\">\n",
       "  <thead>\n",
       "    <tr style=\"text-align: right;\">\n",
       "      <th></th>\n",
       "      <th>date</th>\n",
       "      <th>accum</th>\n",
       "      <th>temp_min</th>\n",
       "      <th>temp_max</th>\n",
       "      <th>wind</th>\n",
       "      <th>closed</th>\n",
       "      <th>note</th>\n",
       "    </tr>\n",
       "  </thead>\n",
       "  <tbody>\n",
       "    <tr>\n",
       "      <th>201</th>\n",
       "      <td>2012-10-29</td>\n",
       "      <td>0.000</td>\n",
       "      <td>53.03</td>\n",
       "      <td>60.63</td>\n",
       "      <td>24.79</td>\n",
       "      <td>yes</td>\n",
       "      <td>hurricane</td>\n",
       "    </tr>\n",
       "    <tr>\n",
       "      <th>255</th>\n",
       "      <td>2013-02-08</td>\n",
       "      <td>3.824</td>\n",
       "      <td>20.65</td>\n",
       "      <td>32.43</td>\n",
       "      <td>16.51</td>\n",
       "      <td>yes</td>\n",
       "      <td>NaN</td>\n",
       "    </tr>\n",
       "    <tr>\n",
       "      <th>274</th>\n",
       "      <td>2013-03-08</td>\n",
       "      <td>4.196</td>\n",
       "      <td>29.22</td>\n",
       "      <td>41.82</td>\n",
       "      <td>17.65</td>\n",
       "      <td>yes</td>\n",
       "      <td>early facebook</td>\n",
       "    </tr>\n",
       "    <tr>\n",
       "      <th>281</th>\n",
       "      <td>2013-03-19</td>\n",
       "      <td>4.335</td>\n",
       "      <td>29.18</td>\n",
       "      <td>36.48</td>\n",
       "      <td>12.63</td>\n",
       "      <td>yes</td>\n",
       "      <td>NaN</td>\n",
       "    </tr>\n",
       "    <tr>\n",
       "      <th>398</th>\n",
       "      <td>2013-12-17</td>\n",
       "      <td>3.916</td>\n",
       "      <td>9.47</td>\n",
       "      <td>23.46</td>\n",
       "      <td>6.26</td>\n",
       "      <td>yes</td>\n",
       "      <td>early facebook</td>\n",
       "    </tr>\n",
       "  </tbody>\n",
       "</table>\n",
       "</div>"
      ],
      "text/plain": [
       "          date  accum  temp_min  temp_max   wind closed            note\n",
       "201 2012-10-29  0.000     53.03     60.63  24.79    yes       hurricane\n",
       "255 2013-02-08  3.824     20.65     32.43  16.51    yes             NaN\n",
       "274 2013-03-08  4.196     29.22     41.82  17.65    yes  early facebook\n",
       "281 2013-03-19  4.335     29.18     36.48  12.63    yes             NaN\n",
       "398 2013-12-17  3.916      9.47     23.46   6.26    yes  early facebook"
      ]
     },
     "execution_count": 23,
     "metadata": {},
     "output_type": "execute_result"
    }
   ],
   "source": [
    "# You can explore rows with a specific value like so\n",
    "\n",
    "tmp = single_table[single_table[\"closed\"]=='yes']\n",
    "print(\"row count:\",len(tmp))\n",
    "tmp.head() \n",
    "\n",
    "# Note: here we're taking a slice of the dataframe/table and putting it\n",
    "# in a new dtaframe called tmp. You could use this same approche to get\n",
    "# get a dataframe where some thing is true (e.g., all teh \"closed\" entires)"
   ]
  },
  {
   "cell_type": "code",
   "execution_count": 24,
   "metadata": {
    "scrolled": false
   },
   "outputs": [
    {
     "name": "stdout",
     "output_type": "stream",
     "text": [
      "row count: 19\n"
     ]
    },
    {
     "data": {
      "text/html": [
       "<div>\n",
       "<style>\n",
       "    .dataframe thead tr:only-child th {\n",
       "        text-align: right;\n",
       "    }\n",
       "\n",
       "    .dataframe thead th {\n",
       "        text-align: left;\n",
       "    }\n",
       "\n",
       "    .dataframe tbody tr th {\n",
       "        vertical-align: top;\n",
       "    }\n",
       "</style>\n",
       "<table border=\"1\" class=\"dataframe\">\n",
       "  <thead>\n",
       "    <tr style=\"text-align: right;\">\n",
       "      <th></th>\n",
       "      <th>date</th>\n",
       "      <th>accum</th>\n",
       "      <th>temp_min</th>\n",
       "      <th>temp_max</th>\n",
       "      <th>wind</th>\n",
       "      <th>closed</th>\n",
       "      <th>note</th>\n",
       "    </tr>\n",
       "  </thead>\n",
       "  <tbody>\n",
       "    <tr>\n",
       "      <th>201</th>\n",
       "      <td>2012-10-29</td>\n",
       "      <td>0.000</td>\n",
       "      <td>53.03</td>\n",
       "      <td>60.63</td>\n",
       "      <td>24.79</td>\n",
       "      <td>YES</td>\n",
       "      <td>hurricane</td>\n",
       "    </tr>\n",
       "    <tr>\n",
       "      <th>255</th>\n",
       "      <td>2013-02-08</td>\n",
       "      <td>3.824</td>\n",
       "      <td>20.65</td>\n",
       "      <td>32.43</td>\n",
       "      <td>16.51</td>\n",
       "      <td>YES</td>\n",
       "      <td>NaN</td>\n",
       "    </tr>\n",
       "    <tr>\n",
       "      <th>274</th>\n",
       "      <td>2013-03-08</td>\n",
       "      <td>4.196</td>\n",
       "      <td>29.22</td>\n",
       "      <td>41.82</td>\n",
       "      <td>17.65</td>\n",
       "      <td>YES</td>\n",
       "      <td>early facebook</td>\n",
       "    </tr>\n",
       "    <tr>\n",
       "      <th>281</th>\n",
       "      <td>2013-03-19</td>\n",
       "      <td>4.335</td>\n",
       "      <td>29.18</td>\n",
       "      <td>36.48</td>\n",
       "      <td>12.63</td>\n",
       "      <td>YES</td>\n",
       "      <td>NaN</td>\n",
       "    </tr>\n",
       "    <tr>\n",
       "      <th>398</th>\n",
       "      <td>2013-12-17</td>\n",
       "      <td>3.916</td>\n",
       "      <td>9.47</td>\n",
       "      <td>23.46</td>\n",
       "      <td>6.26</td>\n",
       "      <td>YES</td>\n",
       "      <td>early facebook</td>\n",
       "    </tr>\n",
       "  </tbody>\n",
       "</table>\n",
       "</div>"
      ],
      "text/plain": [
       "          date  accum  temp_min  temp_max   wind closed            note\n",
       "201 2012-10-29  0.000     53.03     60.63  24.79    YES       hurricane\n",
       "255 2013-02-08  3.824     20.65     32.43  16.51    YES             NaN\n",
       "274 2013-03-08  4.196     29.22     41.82  17.65    YES  early facebook\n",
       "281 2013-03-19  4.335     29.18     36.48  12.63    YES             NaN\n",
       "398 2013-12-17  3.916      9.47     23.46   6.26    YES  early facebook"
      ]
     },
     "execution_count": 24,
     "metadata": {},
     "output_type": "execute_result"
    }
   ],
   "source": [
    "# The above slice, however, would miss any yeses with different capitalization (e.g., Yes or YES)\n",
    "# To avoid this issue, you can just force everything in a column to be uppercase, like this\n",
    "\n",
    "single_table['closed'] = single_table['closed'].str.upper()\n",
    "tmp = single_table[single_table[\"closed\"]=='YES']\n",
    "print(\"row count:\",len(tmp))\n",
    "tmp.head() \n",
    "\n",
    "# Note, you can make something lowercase by using .lower()"
   ]
  },
  {
   "cell_type": "code",
   "execution_count": 25,
   "metadata": {
    "scrolled": false
   },
   "outputs": [
    {
     "name": "stdout",
     "output_type": "stream",
     "text": [
      "row count: 932\n"
     ]
    },
    {
     "data": {
      "text/html": [
       "<div>\n",
       "<style>\n",
       "    .dataframe thead tr:only-child th {\n",
       "        text-align: right;\n",
       "    }\n",
       "\n",
       "    .dataframe thead th {\n",
       "        text-align: left;\n",
       "    }\n",
       "\n",
       "    .dataframe tbody tr th {\n",
       "        vertical-align: top;\n",
       "    }\n",
       "</style>\n",
       "<table border=\"1\" class=\"dataframe\">\n",
       "  <thead>\n",
       "    <tr style=\"text-align: right;\">\n",
       "      <th></th>\n",
       "      <th>date</th>\n",
       "      <th>accum</th>\n",
       "      <th>temp_min</th>\n",
       "      <th>temp_max</th>\n",
       "      <th>wind</th>\n",
       "      <th>closed</th>\n",
       "      <th>note</th>\n",
       "    </tr>\n",
       "  </thead>\n",
       "  <tbody>\n",
       "    <tr>\n",
       "      <th>0</th>\n",
       "      <td>2011-09-01</td>\n",
       "      <td>0.0</td>\n",
       "      <td>62.45</td>\n",
       "      <td>70.80</td>\n",
       "      <td>5.64</td>\n",
       "      <td>NaN</td>\n",
       "      <td>NaN</td>\n",
       "    </tr>\n",
       "    <tr>\n",
       "      <th>1</th>\n",
       "      <td>2011-09-02</td>\n",
       "      <td>0.0</td>\n",
       "      <td>60.21</td>\n",
       "      <td>67.46</td>\n",
       "      <td>4.80</td>\n",
       "      <td>NaN</td>\n",
       "      <td>NaN</td>\n",
       "    </tr>\n",
       "    <tr>\n",
       "      <th>2</th>\n",
       "      <td>2011-09-06</td>\n",
       "      <td>0.0</td>\n",
       "      <td>59.26</td>\n",
       "      <td>73.83</td>\n",
       "      <td>4.97</td>\n",
       "      <td>NaN</td>\n",
       "      <td>NaN</td>\n",
       "    </tr>\n",
       "    <tr>\n",
       "      <th>3</th>\n",
       "      <td>2011-09-07</td>\n",
       "      <td>0.0</td>\n",
       "      <td>59.72</td>\n",
       "      <td>61.98</td>\n",
       "      <td>9.91</td>\n",
       "      <td>NaN</td>\n",
       "      <td>NaN</td>\n",
       "    </tr>\n",
       "    <tr>\n",
       "      <th>4</th>\n",
       "      <td>2011-09-08</td>\n",
       "      <td>0.0</td>\n",
       "      <td>58.36</td>\n",
       "      <td>65.14</td>\n",
       "      <td>6.01</td>\n",
       "      <td>NaN</td>\n",
       "      <td>NaN</td>\n",
       "    </tr>\n",
       "  </tbody>\n",
       "</table>\n",
       "</div>"
      ],
      "text/plain": [
       "        date  accum  temp_min  temp_max  wind closed note\n",
       "0 2011-09-01    0.0     62.45     70.80  5.64    NaN  NaN\n",
       "1 2011-09-02    0.0     60.21     67.46  4.80    NaN  NaN\n",
       "2 2011-09-06    0.0     59.26     73.83  4.97    NaN  NaN\n",
       "3 2011-09-07    0.0     59.72     61.98  9.91    NaN  NaN\n",
       "4 2011-09-08    0.0     58.36     65.14  6.01    NaN  NaN"
      ]
     },
     "execution_count": 25,
     "metadata": {},
     "output_type": "execute_result"
    }
   ],
   "source": [
    "# You can invert a match by using the 'not equal' evaluation.\n",
    "\n",
    "tmp = single_table[single_table[\"closed\"]!='YES']\n",
    "print(\"row count:\",len(tmp))\n",
    "tmp.head() "
   ]
  },
  {
   "cell_type": "code",
   "execution_count": 26,
   "metadata": {
    "scrolled": false
   },
   "outputs": [
    {
     "name": "stdout",
     "output_type": "stream",
     "text": [
      "row count: 27\n"
     ]
    },
    {
     "data": {
      "text/html": [
       "<div>\n",
       "<style>\n",
       "    .dataframe thead tr:only-child th {\n",
       "        text-align: right;\n",
       "    }\n",
       "\n",
       "    .dataframe thead th {\n",
       "        text-align: left;\n",
       "    }\n",
       "\n",
       "    .dataframe tbody tr th {\n",
       "        vertical-align: top;\n",
       "    }\n",
       "</style>\n",
       "<table border=\"1\" class=\"dataframe\">\n",
       "  <thead>\n",
       "    <tr style=\"text-align: right;\">\n",
       "      <th></th>\n",
       "      <th>date</th>\n",
       "      <th>accum</th>\n",
       "      <th>temp_min</th>\n",
       "      <th>temp_max</th>\n",
       "      <th>wind</th>\n",
       "      <th>closed</th>\n",
       "      <th>note</th>\n",
       "    </tr>\n",
       "  </thead>\n",
       "  <tbody>\n",
       "    <tr>\n",
       "      <th>105</th>\n",
       "      <td>2012-02-29</td>\n",
       "      <td>1.440</td>\n",
       "      <td>30.81</td>\n",
       "      <td>35.90</td>\n",
       "      <td>5.28</td>\n",
       "      <td>NaN</td>\n",
       "      <td>NaN</td>\n",
       "    </tr>\n",
       "    <tr>\n",
       "      <th>239</th>\n",
       "      <td>2013-01-16</td>\n",
       "      <td>1.863</td>\n",
       "      <td>30.73</td>\n",
       "      <td>35.74</td>\n",
       "      <td>4.07</td>\n",
       "      <td>NaN</td>\n",
       "      <td>NaN</td>\n",
       "    </tr>\n",
       "    <tr>\n",
       "      <th>246</th>\n",
       "      <td>2013-01-28</td>\n",
       "      <td>1.155</td>\n",
       "      <td>21.40</td>\n",
       "      <td>30.49</td>\n",
       "      <td>2.37</td>\n",
       "      <td>NaN</td>\n",
       "      <td>NaN</td>\n",
       "    </tr>\n",
       "    <tr>\n",
       "      <th>255</th>\n",
       "      <td>2013-02-08</td>\n",
       "      <td>3.824</td>\n",
       "      <td>20.65</td>\n",
       "      <td>32.43</td>\n",
       "      <td>16.51</td>\n",
       "      <td>YES</td>\n",
       "      <td>NaN</td>\n",
       "    </tr>\n",
       "    <tr>\n",
       "      <th>273</th>\n",
       "      <td>2013-03-07</td>\n",
       "      <td>1.857</td>\n",
       "      <td>31.13</td>\n",
       "      <td>36.50</td>\n",
       "      <td>21.30</td>\n",
       "      <td>NaN</td>\n",
       "      <td>NaN</td>\n",
       "    </tr>\n",
       "  </tbody>\n",
       "</table>\n",
       "</div>"
      ],
      "text/plain": [
       "          date  accum  temp_min  temp_max   wind closed note\n",
       "105 2012-02-29  1.440     30.81     35.90   5.28    NaN  NaN\n",
       "239 2013-01-16  1.863     30.73     35.74   4.07    NaN  NaN\n",
       "246 2013-01-28  1.155     21.40     30.49   2.37    NaN  NaN\n",
       "255 2013-02-08  3.824     20.65     32.43  16.51    YES  NaN\n",
       "273 2013-03-07  1.857     31.13     36.50  21.30    NaN  NaN"
      ]
     },
     "execution_count": 26,
     "metadata": {},
     "output_type": "execute_result"
    }
   ],
   "source": [
    "# this works with numbers too\n",
    "\n",
    "tmp = single_table[single_table[\"accum\"]>1]\n",
    "print(\"row count:\",len(tmp))\n",
    "tmp.head() "
   ]
  },
  {
   "cell_type": "markdown",
   "metadata": {},
   "source": [
    "For a complete list of ways to compare strings and numbers, check out the Comparison Operators sections from the [Operators post](https://www.programiz.com/python-programming/operators) from above. After that, if you didn't alredy, read up on what other operators do (e.g., +, -, \\*)."
   ]
  },
  {
   "cell_type": "code",
   "execution_count": 27,
   "metadata": {
    "scrolled": false
   },
   "outputs": [
    {
     "name": "stdout",
     "output_type": "stream",
     "text": [
      "row count: 19\n"
     ]
    },
    {
     "data": {
      "text/html": [
       "<div>\n",
       "<style>\n",
       "    .dataframe thead tr:only-child th {\n",
       "        text-align: right;\n",
       "    }\n",
       "\n",
       "    .dataframe thead th {\n",
       "        text-align: left;\n",
       "    }\n",
       "\n",
       "    .dataframe tbody tr th {\n",
       "        vertical-align: top;\n",
       "    }\n",
       "</style>\n",
       "<table border=\"1\" class=\"dataframe\">\n",
       "  <thead>\n",
       "    <tr style=\"text-align: right;\">\n",
       "      <th></th>\n",
       "      <th>date</th>\n",
       "      <th>accum</th>\n",
       "      <th>temp_min</th>\n",
       "      <th>temp_max</th>\n",
       "      <th>wind</th>\n",
       "      <th>closed</th>\n",
       "      <th>note</th>\n",
       "    </tr>\n",
       "  </thead>\n",
       "  <tbody>\n",
       "    <tr>\n",
       "      <th>201</th>\n",
       "      <td>2012-10-29</td>\n",
       "      <td>0.000</td>\n",
       "      <td>53.03</td>\n",
       "      <td>60.63</td>\n",
       "      <td>24.79</td>\n",
       "      <td>YES</td>\n",
       "      <td>hurricane</td>\n",
       "    </tr>\n",
       "    <tr>\n",
       "      <th>255</th>\n",
       "      <td>2013-02-08</td>\n",
       "      <td>3.824</td>\n",
       "      <td>20.65</td>\n",
       "      <td>32.43</td>\n",
       "      <td>16.51</td>\n",
       "      <td>YES</td>\n",
       "      <td>NaN</td>\n",
       "    </tr>\n",
       "    <tr>\n",
       "      <th>274</th>\n",
       "      <td>2013-03-08</td>\n",
       "      <td>4.196</td>\n",
       "      <td>29.22</td>\n",
       "      <td>41.82</td>\n",
       "      <td>17.65</td>\n",
       "      <td>YES</td>\n",
       "      <td>early facebook</td>\n",
       "    </tr>\n",
       "    <tr>\n",
       "      <th>281</th>\n",
       "      <td>2013-03-19</td>\n",
       "      <td>4.335</td>\n",
       "      <td>29.18</td>\n",
       "      <td>36.48</td>\n",
       "      <td>12.63</td>\n",
       "      <td>YES</td>\n",
       "      <td>NaN</td>\n",
       "    </tr>\n",
       "    <tr>\n",
       "      <th>398</th>\n",
       "      <td>2013-12-17</td>\n",
       "      <td>3.916</td>\n",
       "      <td>9.47</td>\n",
       "      <td>23.46</td>\n",
       "      <td>6.26</td>\n",
       "      <td>YES</td>\n",
       "      <td>early facebook</td>\n",
       "    </tr>\n",
       "  </tbody>\n",
       "</table>\n",
       "</div>"
      ],
      "text/plain": [
       "          date  accum  temp_min  temp_max   wind closed            note\n",
       "201 2012-10-29  0.000     53.03     60.63  24.79    YES       hurricane\n",
       "255 2013-02-08  3.824     20.65     32.43  16.51    YES             NaN\n",
       "274 2013-03-08  4.196     29.22     41.82  17.65    YES  early facebook\n",
       "281 2013-03-19  4.335     29.18     36.48  12.63    YES             NaN\n",
       "398 2013-12-17  3.916      9.47     23.46   6.26    YES  early facebook"
      ]
     },
     "execution_count": 27,
     "metadata": {},
     "output_type": "execute_result"
    }
   ],
   "source": [
    "# for the special case of when a value is NaN, you can filter based on the value not being null (i.e., empty)\n",
    "# this involves using a pandas function `pd.notnull()` that checks the contents and returns True if it's not null.\n",
    "\n",
    "tmp = single_table[pd.notnull(single_table[\"closed\"])]\n",
    "print(\"row count:\",len(tmp))\n",
    "tmp.head() "
   ]
  },
  {
   "cell_type": "code",
   "execution_count": 28,
   "metadata": {
    "scrolled": false
   },
   "outputs": [
    {
     "name": "stdout",
     "output_type": "stream",
     "text": [
      "row count: 932\n"
     ]
    },
    {
     "data": {
      "text/html": [
       "<div>\n",
       "<style>\n",
       "    .dataframe thead tr:only-child th {\n",
       "        text-align: right;\n",
       "    }\n",
       "\n",
       "    .dataframe thead th {\n",
       "        text-align: left;\n",
       "    }\n",
       "\n",
       "    .dataframe tbody tr th {\n",
       "        vertical-align: top;\n",
       "    }\n",
       "</style>\n",
       "<table border=\"1\" class=\"dataframe\">\n",
       "  <thead>\n",
       "    <tr style=\"text-align: right;\">\n",
       "      <th></th>\n",
       "      <th>date</th>\n",
       "      <th>accum</th>\n",
       "      <th>temp_min</th>\n",
       "      <th>temp_max</th>\n",
       "      <th>wind</th>\n",
       "      <th>closed</th>\n",
       "      <th>note</th>\n",
       "    </tr>\n",
       "  </thead>\n",
       "  <tbody>\n",
       "    <tr>\n",
       "      <th>0</th>\n",
       "      <td>2011-09-01</td>\n",
       "      <td>0.0</td>\n",
       "      <td>62.45</td>\n",
       "      <td>70.80</td>\n",
       "      <td>5.64</td>\n",
       "      <td>NaN</td>\n",
       "      <td>NaN</td>\n",
       "    </tr>\n",
       "    <tr>\n",
       "      <th>1</th>\n",
       "      <td>2011-09-02</td>\n",
       "      <td>0.0</td>\n",
       "      <td>60.21</td>\n",
       "      <td>67.46</td>\n",
       "      <td>4.80</td>\n",
       "      <td>NaN</td>\n",
       "      <td>NaN</td>\n",
       "    </tr>\n",
       "    <tr>\n",
       "      <th>2</th>\n",
       "      <td>2011-09-06</td>\n",
       "      <td>0.0</td>\n",
       "      <td>59.26</td>\n",
       "      <td>73.83</td>\n",
       "      <td>4.97</td>\n",
       "      <td>NaN</td>\n",
       "      <td>NaN</td>\n",
       "    </tr>\n",
       "    <tr>\n",
       "      <th>3</th>\n",
       "      <td>2011-09-07</td>\n",
       "      <td>0.0</td>\n",
       "      <td>59.72</td>\n",
       "      <td>61.98</td>\n",
       "      <td>9.91</td>\n",
       "      <td>NaN</td>\n",
       "      <td>NaN</td>\n",
       "    </tr>\n",
       "    <tr>\n",
       "      <th>4</th>\n",
       "      <td>2011-09-08</td>\n",
       "      <td>0.0</td>\n",
       "      <td>58.36</td>\n",
       "      <td>65.14</td>\n",
       "      <td>6.01</td>\n",
       "      <td>NaN</td>\n",
       "      <td>NaN</td>\n",
       "    </tr>\n",
       "  </tbody>\n",
       "</table>\n",
       "</div>"
      ],
      "text/plain": [
       "        date  accum  temp_min  temp_max  wind closed note\n",
       "0 2011-09-01    0.0     62.45     70.80  5.64    NaN  NaN\n",
       "1 2011-09-02    0.0     60.21     67.46  4.80    NaN  NaN\n",
       "2 2011-09-06    0.0     59.26     73.83  4.97    NaN  NaN\n",
       "3 2011-09-07    0.0     59.72     61.98  9.91    NaN  NaN\n",
       "4 2011-09-08    0.0     58.36     65.14  6.01    NaN  NaN"
      ]
     },
     "execution_count": 28,
     "metadata": {},
     "output_type": "execute_result"
    }
   ],
   "source": [
    "# The invers of notnull is 'isnull' \n",
    "\n",
    "tmp = single_table[pd.isnull(single_table[\"closed\"])]\n",
    "print(\"row count:\",len(tmp))\n",
    "tmp.head() "
   ]
  },
  {
   "cell_type": "code",
   "execution_count": 29,
   "metadata": {
    "collapsed": true,
    "scrolled": false
   },
   "outputs": [],
   "source": [
    "# you can  make a copy of a dataframe like so. This will allow you to work on a \n",
    "# copy of the data without changing the original. \n",
    "\n",
    "processed_table = single_table.copy()"
   ]
  },
  {
   "cell_type": "code",
   "execution_count": 30,
   "metadata": {
    "scrolled": false
   },
   "outputs": [
    {
     "name": "stdout",
     "output_type": "stream",
     "text": [
      "row count: 951\n"
     ]
    },
    {
     "data": {
      "text/html": [
       "<div>\n",
       "<style>\n",
       "    .dataframe thead tr:only-child th {\n",
       "        text-align: right;\n",
       "    }\n",
       "\n",
       "    .dataframe thead th {\n",
       "        text-align: left;\n",
       "    }\n",
       "\n",
       "    .dataframe tbody tr th {\n",
       "        vertical-align: top;\n",
       "    }\n",
       "</style>\n",
       "<table border=\"1\" class=\"dataframe\">\n",
       "  <thead>\n",
       "    <tr style=\"text-align: right;\">\n",
       "      <th></th>\n",
       "      <th>date</th>\n",
       "      <th>accum</th>\n",
       "      <th>temp_min</th>\n",
       "      <th>temp_max</th>\n",
       "      <th>wind</th>\n",
       "      <th>closed</th>\n",
       "      <th>note</th>\n",
       "      <th>early</th>\n",
       "      <th>early facebook</th>\n",
       "      <th>email</th>\n",
       "      <th>facebook</th>\n",
       "      <th>hurricane</th>\n",
       "    </tr>\n",
       "  </thead>\n",
       "  <tbody>\n",
       "    <tr>\n",
       "      <th>0</th>\n",
       "      <td>2011-09-01</td>\n",
       "      <td>0.0</td>\n",
       "      <td>62.45</td>\n",
       "      <td>70.80</td>\n",
       "      <td>5.64</td>\n",
       "      <td>NaN</td>\n",
       "      <td>NaN</td>\n",
       "      <td>0</td>\n",
       "      <td>0</td>\n",
       "      <td>0</td>\n",
       "      <td>0</td>\n",
       "      <td>0</td>\n",
       "    </tr>\n",
       "    <tr>\n",
       "      <th>1</th>\n",
       "      <td>2011-09-02</td>\n",
       "      <td>0.0</td>\n",
       "      <td>60.21</td>\n",
       "      <td>67.46</td>\n",
       "      <td>4.80</td>\n",
       "      <td>NaN</td>\n",
       "      <td>NaN</td>\n",
       "      <td>0</td>\n",
       "      <td>0</td>\n",
       "      <td>0</td>\n",
       "      <td>0</td>\n",
       "      <td>0</td>\n",
       "    </tr>\n",
       "    <tr>\n",
       "      <th>2</th>\n",
       "      <td>2011-09-06</td>\n",
       "      <td>0.0</td>\n",
       "      <td>59.26</td>\n",
       "      <td>73.83</td>\n",
       "      <td>4.97</td>\n",
       "      <td>NaN</td>\n",
       "      <td>NaN</td>\n",
       "      <td>0</td>\n",
       "      <td>0</td>\n",
       "      <td>0</td>\n",
       "      <td>0</td>\n",
       "      <td>0</td>\n",
       "    </tr>\n",
       "    <tr>\n",
       "      <th>3</th>\n",
       "      <td>2011-09-07</td>\n",
       "      <td>0.0</td>\n",
       "      <td>59.72</td>\n",
       "      <td>61.98</td>\n",
       "      <td>9.91</td>\n",
       "      <td>NaN</td>\n",
       "      <td>NaN</td>\n",
       "      <td>0</td>\n",
       "      <td>0</td>\n",
       "      <td>0</td>\n",
       "      <td>0</td>\n",
       "      <td>0</td>\n",
       "    </tr>\n",
       "    <tr>\n",
       "      <th>4</th>\n",
       "      <td>2011-09-08</td>\n",
       "      <td>0.0</td>\n",
       "      <td>58.36</td>\n",
       "      <td>65.14</td>\n",
       "      <td>6.01</td>\n",
       "      <td>NaN</td>\n",
       "      <td>NaN</td>\n",
       "      <td>0</td>\n",
       "      <td>0</td>\n",
       "      <td>0</td>\n",
       "      <td>0</td>\n",
       "      <td>0</td>\n",
       "    </tr>\n",
       "  </tbody>\n",
       "</table>\n",
       "</div>"
      ],
      "text/plain": [
       "        date  accum  temp_min  temp_max  wind closed note  early  \\\n",
       "0 2011-09-01    0.0     62.45     70.80  5.64    NaN  NaN      0   \n",
       "1 2011-09-02    0.0     60.21     67.46  4.80    NaN  NaN      0   \n",
       "2 2011-09-06    0.0     59.26     73.83  4.97    NaN  NaN      0   \n",
       "3 2011-09-07    0.0     59.72     61.98  9.91    NaN  NaN      0   \n",
       "4 2011-09-08    0.0     58.36     65.14  6.01    NaN  NaN      0   \n",
       "\n",
       "   early facebook  email  facebook  hurricane  \n",
       "0               0      0         0          0  \n",
       "1               0      0         0          0  \n",
       "2               0      0         0          0  \n",
       "3               0      0         0          0  \n",
       "4               0      0         0          0  "
      ]
     },
     "execution_count": 30,
     "metadata": {},
     "output_type": "execute_result"
    }
   ],
   "source": [
    "# if you have a column that contains a set of lables, you can turn them into \n",
    "# multiple rows containing numbers like so: \n",
    "\n",
    "processed_table = pd.concat([processed_table, pd.get_dummies(processed_table['note'])], axis=1)\n",
    "print(\"row count:\",len(processed_table))\n",
    "processed_table.head()\n",
    "\n",
    "# The value for a column will be 1 if the source column contained that lable. "
   ]
  },
  {
   "cell_type": "code",
   "execution_count": 31,
   "metadata": {
    "scrolled": false
   },
   "outputs": [
    {
     "name": "stdout",
     "output_type": "stream",
     "text": [
      "row count: 951\n"
     ]
    },
    {
     "data": {
      "text/html": [
       "<div>\n",
       "<style>\n",
       "    .dataframe thead tr:only-child th {\n",
       "        text-align: right;\n",
       "    }\n",
       "\n",
       "    .dataframe thead th {\n",
       "        text-align: left;\n",
       "    }\n",
       "\n",
       "    .dataframe tbody tr th {\n",
       "        vertical-align: top;\n",
       "    }\n",
       "</style>\n",
       "<table border=\"1\" class=\"dataframe\">\n",
       "  <thead>\n",
       "    <tr style=\"text-align: right;\">\n",
       "      <th></th>\n",
       "      <th>date</th>\n",
       "      <th>accum</th>\n",
       "      <th>temp_min</th>\n",
       "      <th>temp_max</th>\n",
       "      <th>wind</th>\n",
       "      <th>closed</th>\n",
       "      <th>note</th>\n",
       "      <th>early</th>\n",
       "      <th>early facebook</th>\n",
       "      <th>facebook</th>\n",
       "      <th>hurricane</th>\n",
       "    </tr>\n",
       "  </thead>\n",
       "  <tbody>\n",
       "    <tr>\n",
       "      <th>0</th>\n",
       "      <td>2011-09-01</td>\n",
       "      <td>0.0</td>\n",
       "      <td>62.45</td>\n",
       "      <td>70.80</td>\n",
       "      <td>5.64</td>\n",
       "      <td>NaN</td>\n",
       "      <td>NaN</td>\n",
       "      <td>0</td>\n",
       "      <td>0</td>\n",
       "      <td>0</td>\n",
       "      <td>0</td>\n",
       "    </tr>\n",
       "    <tr>\n",
       "      <th>1</th>\n",
       "      <td>2011-09-02</td>\n",
       "      <td>0.0</td>\n",
       "      <td>60.21</td>\n",
       "      <td>67.46</td>\n",
       "      <td>4.80</td>\n",
       "      <td>NaN</td>\n",
       "      <td>NaN</td>\n",
       "      <td>0</td>\n",
       "      <td>0</td>\n",
       "      <td>0</td>\n",
       "      <td>0</td>\n",
       "    </tr>\n",
       "    <tr>\n",
       "      <th>2</th>\n",
       "      <td>2011-09-06</td>\n",
       "      <td>0.0</td>\n",
       "      <td>59.26</td>\n",
       "      <td>73.83</td>\n",
       "      <td>4.97</td>\n",
       "      <td>NaN</td>\n",
       "      <td>NaN</td>\n",
       "      <td>0</td>\n",
       "      <td>0</td>\n",
       "      <td>0</td>\n",
       "      <td>0</td>\n",
       "    </tr>\n",
       "    <tr>\n",
       "      <th>3</th>\n",
       "      <td>2011-09-07</td>\n",
       "      <td>0.0</td>\n",
       "      <td>59.72</td>\n",
       "      <td>61.98</td>\n",
       "      <td>9.91</td>\n",
       "      <td>NaN</td>\n",
       "      <td>NaN</td>\n",
       "      <td>0</td>\n",
       "      <td>0</td>\n",
       "      <td>0</td>\n",
       "      <td>0</td>\n",
       "    </tr>\n",
       "    <tr>\n",
       "      <th>4</th>\n",
       "      <td>2011-09-08</td>\n",
       "      <td>0.0</td>\n",
       "      <td>58.36</td>\n",
       "      <td>65.14</td>\n",
       "      <td>6.01</td>\n",
       "      <td>NaN</td>\n",
       "      <td>NaN</td>\n",
       "      <td>0</td>\n",
       "      <td>0</td>\n",
       "      <td>0</td>\n",
       "      <td>0</td>\n",
       "    </tr>\n",
       "  </tbody>\n",
       "</table>\n",
       "</div>"
      ],
      "text/plain": [
       "        date  accum  temp_min  temp_max  wind closed note  early  \\\n",
       "0 2011-09-01    0.0     62.45     70.80  5.64    NaN  NaN      0   \n",
       "1 2011-09-02    0.0     60.21     67.46  4.80    NaN  NaN      0   \n",
       "2 2011-09-06    0.0     59.26     73.83  4.97    NaN  NaN      0   \n",
       "3 2011-09-07    0.0     59.72     61.98  9.91    NaN  NaN      0   \n",
       "4 2011-09-08    0.0     58.36     65.14  6.01    NaN  NaN      0   \n",
       "\n",
       "   early facebook  facebook  hurricane  \n",
       "0               0         0          0  \n",
       "1               0         0          0  \n",
       "2               0         0          0  \n",
       "3               0         0          0  \n",
       "4               0         0          0  "
      ]
     },
     "metadata": {},
     "output_type": "display_data"
    },
    {
     "name": "stdout",
     "output_type": "stream",
     "text": [
      "row count: 951\n"
     ]
    },
    {
     "data": {
      "text/html": [
       "<div>\n",
       "<style>\n",
       "    .dataframe thead tr:only-child th {\n",
       "        text-align: right;\n",
       "    }\n",
       "\n",
       "    .dataframe thead th {\n",
       "        text-align: left;\n",
       "    }\n",
       "\n",
       "    .dataframe tbody tr th {\n",
       "        vertical-align: top;\n",
       "    }\n",
       "</style>\n",
       "<table border=\"1\" class=\"dataframe\">\n",
       "  <thead>\n",
       "    <tr style=\"text-align: right;\">\n",
       "      <th></th>\n",
       "      <th>date</th>\n",
       "      <th>accum</th>\n",
       "      <th>temp_min</th>\n",
       "      <th>temp_max</th>\n",
       "      <th>wind</th>\n",
       "      <th>closed</th>\n",
       "      <th>note</th>\n",
       "      <th>hurricane</th>\n",
       "    </tr>\n",
       "  </thead>\n",
       "  <tbody>\n",
       "    <tr>\n",
       "      <th>0</th>\n",
       "      <td>2011-09-01</td>\n",
       "      <td>0.0</td>\n",
       "      <td>62.45</td>\n",
       "      <td>70.80</td>\n",
       "      <td>5.64</td>\n",
       "      <td>NaN</td>\n",
       "      <td>NaN</td>\n",
       "      <td>0</td>\n",
       "    </tr>\n",
       "    <tr>\n",
       "      <th>1</th>\n",
       "      <td>2011-09-02</td>\n",
       "      <td>0.0</td>\n",
       "      <td>60.21</td>\n",
       "      <td>67.46</td>\n",
       "      <td>4.80</td>\n",
       "      <td>NaN</td>\n",
       "      <td>NaN</td>\n",
       "      <td>0</td>\n",
       "    </tr>\n",
       "    <tr>\n",
       "      <th>2</th>\n",
       "      <td>2011-09-06</td>\n",
       "      <td>0.0</td>\n",
       "      <td>59.26</td>\n",
       "      <td>73.83</td>\n",
       "      <td>4.97</td>\n",
       "      <td>NaN</td>\n",
       "      <td>NaN</td>\n",
       "      <td>0</td>\n",
       "    </tr>\n",
       "    <tr>\n",
       "      <th>3</th>\n",
       "      <td>2011-09-07</td>\n",
       "      <td>0.0</td>\n",
       "      <td>59.72</td>\n",
       "      <td>61.98</td>\n",
       "      <td>9.91</td>\n",
       "      <td>NaN</td>\n",
       "      <td>NaN</td>\n",
       "      <td>0</td>\n",
       "    </tr>\n",
       "    <tr>\n",
       "      <th>4</th>\n",
       "      <td>2011-09-08</td>\n",
       "      <td>0.0</td>\n",
       "      <td>58.36</td>\n",
       "      <td>65.14</td>\n",
       "      <td>6.01</td>\n",
       "      <td>NaN</td>\n",
       "      <td>NaN</td>\n",
       "      <td>0</td>\n",
       "    </tr>\n",
       "  </tbody>\n",
       "</table>\n",
       "</div>"
      ],
      "text/plain": [
       "        date  accum  temp_min  temp_max  wind closed note  hurricane\n",
       "0 2011-09-01    0.0     62.45     70.80  5.64    NaN  NaN          0\n",
       "1 2011-09-02    0.0     60.21     67.46  4.80    NaN  NaN          0\n",
       "2 2011-09-06    0.0     59.26     73.83  4.97    NaN  NaN          0\n",
       "3 2011-09-07    0.0     59.72     61.98  9.91    NaN  NaN          0\n",
       "4 2011-09-08    0.0     58.36     65.14  6.01    NaN  NaN          0"
      ]
     },
     "metadata": {},
     "output_type": "display_data"
    }
   ],
   "source": [
    "# You can remove unwanted colums like so\n",
    "\n",
    "# for a single column\n",
    "processed_table = processed_table.drop('email', 1)\n",
    "print(\"row count:\",len(processed_table))\n",
    "display(processed_table.head())\n",
    "\n",
    "# for multiple columns\n",
    "processed_table = processed_table.drop([\n",
    "                                            'early',\n",
    "                                            'early facebook',\n",
    "                                            'facebook'\n",
    "                                           ], 1)\n",
    "print(\"row count:\",len(processed_table))\n",
    "display(processed_table.head())"
   ]
  },
  {
   "cell_type": "code",
   "execution_count": 32,
   "metadata": {
    "scrolled": false
   },
   "outputs": [
    {
     "name": "stdout",
     "output_type": "stream",
     "text": [
      "row count: 951\n"
     ]
    },
    {
     "data": {
      "text/html": [
       "<div>\n",
       "<style>\n",
       "    .dataframe thead tr:only-child th {\n",
       "        text-align: right;\n",
       "    }\n",
       "\n",
       "    .dataframe thead th {\n",
       "        text-align: left;\n",
       "    }\n",
       "\n",
       "    .dataframe tbody tr th {\n",
       "        vertical-align: top;\n",
       "    }\n",
       "</style>\n",
       "<table border=\"1\" class=\"dataframe\">\n",
       "  <thead>\n",
       "    <tr style=\"text-align: right;\">\n",
       "      <th></th>\n",
       "      <th>date</th>\n",
       "      <th>accum</th>\n",
       "      <th>temp_min</th>\n",
       "      <th>temp_max</th>\n",
       "      <th>wind</th>\n",
       "      <th>closed</th>\n",
       "    </tr>\n",
       "  </thead>\n",
       "  <tbody>\n",
       "    <tr>\n",
       "      <th>0</th>\n",
       "      <td>2011-09-01</td>\n",
       "      <td>0.0</td>\n",
       "      <td>62.45</td>\n",
       "      <td>70.80</td>\n",
       "      <td>5.64</td>\n",
       "      <td>NaN</td>\n",
       "    </tr>\n",
       "    <tr>\n",
       "      <th>1</th>\n",
       "      <td>2011-09-02</td>\n",
       "      <td>0.0</td>\n",
       "      <td>60.21</td>\n",
       "      <td>67.46</td>\n",
       "      <td>4.80</td>\n",
       "      <td>NaN</td>\n",
       "    </tr>\n",
       "    <tr>\n",
       "      <th>2</th>\n",
       "      <td>2011-09-06</td>\n",
       "      <td>0.0</td>\n",
       "      <td>59.26</td>\n",
       "      <td>73.83</td>\n",
       "      <td>4.97</td>\n",
       "      <td>NaN</td>\n",
       "    </tr>\n",
       "    <tr>\n",
       "      <th>3</th>\n",
       "      <td>2011-09-07</td>\n",
       "      <td>0.0</td>\n",
       "      <td>59.72</td>\n",
       "      <td>61.98</td>\n",
       "      <td>9.91</td>\n",
       "      <td>NaN</td>\n",
       "    </tr>\n",
       "    <tr>\n",
       "      <th>4</th>\n",
       "      <td>2011-09-08</td>\n",
       "      <td>0.0</td>\n",
       "      <td>58.36</td>\n",
       "      <td>65.14</td>\n",
       "      <td>6.01</td>\n",
       "      <td>NaN</td>\n",
       "    </tr>\n",
       "  </tbody>\n",
       "</table>\n",
       "</div>"
      ],
      "text/plain": [
       "        date  accum  temp_min  temp_max  wind closed\n",
       "0 2011-09-01    0.0     62.45     70.80  5.64    NaN\n",
       "1 2011-09-02    0.0     60.21     67.46  4.80    NaN\n",
       "2 2011-09-06    0.0     59.26     73.83  4.97    NaN\n",
       "3 2011-09-07    0.0     59.72     61.98  9.91    NaN\n",
       "4 2011-09-08    0.0     58.36     65.14  6.01    NaN"
      ]
     },
     "execution_count": 32,
     "metadata": {},
     "output_type": "execute_result"
    }
   ],
   "source": [
    "# Alternativly, if you want to make a new table from a subset of columns, you can do so like this.\n",
    "# By using \"single_table\" below I am pulling form the orginal data not the copy. However, I am \n",
    "# careful to make sure that I use `.copy()` to make sure I'm not changing the orginal dataframe.\n",
    "\n",
    "processed_table = single_table[[\n",
    "                                        'date',\n",
    "                                        'accum', \n",
    "                                        'temp_min',\n",
    "                                        'temp_max',\n",
    "                                        'wind',\n",
    "                                        'closed'\n",
    "                                     ]].copy()\n",
    "print(\"row count:\",len(processed_table))\n",
    "processed_table.head()"
   ]
  },
  {
   "cell_type": "code",
   "execution_count": 33,
   "metadata": {
    "scrolled": false
   },
   "outputs": [
    {
     "name": "stdout",
     "output_type": "stream",
     "text": [
      "row count: 951\n"
     ]
    },
    {
     "data": {
      "text/html": [
       "<div>\n",
       "<style>\n",
       "    .dataframe thead tr:only-child th {\n",
       "        text-align: right;\n",
       "    }\n",
       "\n",
       "    .dataframe thead th {\n",
       "        text-align: left;\n",
       "    }\n",
       "\n",
       "    .dataframe tbody tr th {\n",
       "        vertical-align: top;\n",
       "    }\n",
       "</style>\n",
       "<table border=\"1\" class=\"dataframe\">\n",
       "  <thead>\n",
       "    <tr style=\"text-align: right;\">\n",
       "      <th></th>\n",
       "      <th>date</th>\n",
       "      <th>accum</th>\n",
       "      <th>min</th>\n",
       "      <th>max</th>\n",
       "      <th>wind</th>\n",
       "      <th>closed</th>\n",
       "    </tr>\n",
       "  </thead>\n",
       "  <tbody>\n",
       "    <tr>\n",
       "      <th>0</th>\n",
       "      <td>2011-09-01</td>\n",
       "      <td>0.0</td>\n",
       "      <td>62.45</td>\n",
       "      <td>70.80</td>\n",
       "      <td>5.64</td>\n",
       "      <td>NaN</td>\n",
       "    </tr>\n",
       "    <tr>\n",
       "      <th>1</th>\n",
       "      <td>2011-09-02</td>\n",
       "      <td>0.0</td>\n",
       "      <td>60.21</td>\n",
       "      <td>67.46</td>\n",
       "      <td>4.80</td>\n",
       "      <td>NaN</td>\n",
       "    </tr>\n",
       "    <tr>\n",
       "      <th>2</th>\n",
       "      <td>2011-09-06</td>\n",
       "      <td>0.0</td>\n",
       "      <td>59.26</td>\n",
       "      <td>73.83</td>\n",
       "      <td>4.97</td>\n",
       "      <td>NaN</td>\n",
       "    </tr>\n",
       "    <tr>\n",
       "      <th>3</th>\n",
       "      <td>2011-09-07</td>\n",
       "      <td>0.0</td>\n",
       "      <td>59.72</td>\n",
       "      <td>61.98</td>\n",
       "      <td>9.91</td>\n",
       "      <td>NaN</td>\n",
       "    </tr>\n",
       "    <tr>\n",
       "      <th>4</th>\n",
       "      <td>2011-09-08</td>\n",
       "      <td>0.0</td>\n",
       "      <td>58.36</td>\n",
       "      <td>65.14</td>\n",
       "      <td>6.01</td>\n",
       "      <td>NaN</td>\n",
       "    </tr>\n",
       "  </tbody>\n",
       "</table>\n",
       "</div>"
      ],
      "text/plain": [
       "        date  accum    min    max  wind closed\n",
       "0 2011-09-01    0.0  62.45  70.80  5.64    NaN\n",
       "1 2011-09-02    0.0  60.21  67.46  4.80    NaN\n",
       "2 2011-09-06    0.0  59.26  73.83  4.97    NaN\n",
       "3 2011-09-07    0.0  59.72  61.98  9.91    NaN\n",
       "4 2011-09-08    0.0  58.36  65.14  6.01    NaN"
      ]
     },
     "execution_count": 33,
     "metadata": {},
     "output_type": "execute_result"
    }
   ],
   "source": [
    "# You can rename columns like so.\n",
    "\n",
    "processed_table = processed_table.rename(columns={\n",
    "                                                        'temp_min': 'min', \n",
    "                                                        'temp_max': 'max'\n",
    "                                                     })\n",
    "print(\"row count:\",len(processed_table))\n",
    "processed_table.head()"
   ]
  },
  {
   "cell_type": "code",
   "execution_count": 34,
   "metadata": {
    "scrolled": false
   },
   "outputs": [
    {
     "name": "stdout",
     "output_type": "stream",
     "text": [
      "row count: 951\n"
     ]
    },
    {
     "data": {
      "text/html": [
       "<div>\n",
       "<style>\n",
       "    .dataframe thead tr:only-child th {\n",
       "        text-align: right;\n",
       "    }\n",
       "\n",
       "    .dataframe thead th {\n",
       "        text-align: left;\n",
       "    }\n",
       "\n",
       "    .dataframe tbody tr th {\n",
       "        vertical-align: top;\n",
       "    }\n",
       "</style>\n",
       "<table border=\"1\" class=\"dataframe\">\n",
       "  <thead>\n",
       "    <tr style=\"text-align: right;\">\n",
       "      <th></th>\n",
       "      <th>date</th>\n",
       "      <th>accum</th>\n",
       "      <th>min</th>\n",
       "      <th>max</th>\n",
       "      <th>wind</th>\n",
       "      <th>closed</th>\n",
       "    </tr>\n",
       "  </thead>\n",
       "  <tbody>\n",
       "    <tr>\n",
       "      <th>0</th>\n",
       "      <td>2011-09-01</td>\n",
       "      <td>0.0</td>\n",
       "      <td>62.45</td>\n",
       "      <td>70.80</td>\n",
       "      <td>5.64</td>\n",
       "      <td>0</td>\n",
       "    </tr>\n",
       "    <tr>\n",
       "      <th>1</th>\n",
       "      <td>2011-09-02</td>\n",
       "      <td>0.0</td>\n",
       "      <td>60.21</td>\n",
       "      <td>67.46</td>\n",
       "      <td>4.80</td>\n",
       "      <td>0</td>\n",
       "    </tr>\n",
       "    <tr>\n",
       "      <th>2</th>\n",
       "      <td>2011-09-06</td>\n",
       "      <td>0.0</td>\n",
       "      <td>59.26</td>\n",
       "      <td>73.83</td>\n",
       "      <td>4.97</td>\n",
       "      <td>0</td>\n",
       "    </tr>\n",
       "    <tr>\n",
       "      <th>3</th>\n",
       "      <td>2011-09-07</td>\n",
       "      <td>0.0</td>\n",
       "      <td>59.72</td>\n",
       "      <td>61.98</td>\n",
       "      <td>9.91</td>\n",
       "      <td>0</td>\n",
       "    </tr>\n",
       "    <tr>\n",
       "      <th>4</th>\n",
       "      <td>2011-09-08</td>\n",
       "      <td>0.0</td>\n",
       "      <td>58.36</td>\n",
       "      <td>65.14</td>\n",
       "      <td>6.01</td>\n",
       "      <td>0</td>\n",
       "    </tr>\n",
       "  </tbody>\n",
       "</table>\n",
       "</div>"
      ],
      "text/plain": [
       "        date  accum    min    max  wind closed\n",
       "0 2011-09-01    0.0  62.45  70.80  5.64      0\n",
       "1 2011-09-02    0.0  60.21  67.46  4.80      0\n",
       "2 2011-09-06    0.0  59.26  73.83  4.97      0\n",
       "3 2011-09-07    0.0  59.72  61.98  9.91      0\n",
       "4 2011-09-08    0.0  58.36  65.14  6.01      0"
      ]
     },
     "execution_count": 34,
     "metadata": {},
     "output_type": "execute_result"
    }
   ],
   "source": [
    "# You can replace values in a column based on logic like so\n",
    "\n",
    "processed_table.loc[processed_table['closed'] == 'YES', 'closed'] = 1\n",
    "processed_table.loc[processed_table['closed'] != 1, 'closed'] = 0\n",
    "\n",
    "print(\"row count:\",len(processed_table))\n",
    "processed_table.head()"
   ]
  },
  {
   "cell_type": "markdown",
   "metadata": {},
   "source": [
    "## Feature Engineering\n",
    "\n",
    "Feature engineering is the process of creating new columns from your old ones. This is done to make the data more usable. \"How?\" you ask. Well lets say you thought a useful feature might be weather or not it's freezing. We don't have a column for that. We have the information needed, but it's not a feature. To fix this we can add a column. I'll show you how in a bit. "
   ]
  },
  {
   "cell_type": "code",
   "execution_count": 35,
   "metadata": {
    "scrolled": false
   },
   "outputs": [
    {
     "name": "stdout",
     "output_type": "stream",
     "text": [
      "row count: 951\n"
     ]
    },
    {
     "data": {
      "text/html": [
       "<div>\n",
       "<style>\n",
       "    .dataframe thead tr:only-child th {\n",
       "        text-align: right;\n",
       "    }\n",
       "\n",
       "    .dataframe thead th {\n",
       "        text-align: left;\n",
       "    }\n",
       "\n",
       "    .dataframe tbody tr th {\n",
       "        vertical-align: top;\n",
       "    }\n",
       "</style>\n",
       "<table border=\"1\" class=\"dataframe\">\n",
       "  <thead>\n",
       "    <tr style=\"text-align: right;\">\n",
       "      <th></th>\n",
       "      <th>date</th>\n",
       "      <th>accum</th>\n",
       "      <th>min</th>\n",
       "      <th>max</th>\n",
       "      <th>wind</th>\n",
       "      <th>closed</th>\n",
       "      <th>mid</th>\n",
       "    </tr>\n",
       "  </thead>\n",
       "  <tbody>\n",
       "    <tr>\n",
       "      <th>0</th>\n",
       "      <td>2011-09-01</td>\n",
       "      <td>0.0</td>\n",
       "      <td>62.45</td>\n",
       "      <td>70.80</td>\n",
       "      <td>5.64</td>\n",
       "      <td>0</td>\n",
       "      <td>66.625</td>\n",
       "    </tr>\n",
       "    <tr>\n",
       "      <th>1</th>\n",
       "      <td>2011-09-02</td>\n",
       "      <td>0.0</td>\n",
       "      <td>60.21</td>\n",
       "      <td>67.46</td>\n",
       "      <td>4.80</td>\n",
       "      <td>0</td>\n",
       "      <td>63.835</td>\n",
       "    </tr>\n",
       "    <tr>\n",
       "      <th>2</th>\n",
       "      <td>2011-09-06</td>\n",
       "      <td>0.0</td>\n",
       "      <td>59.26</td>\n",
       "      <td>73.83</td>\n",
       "      <td>4.97</td>\n",
       "      <td>0</td>\n",
       "      <td>66.545</td>\n",
       "    </tr>\n",
       "    <tr>\n",
       "      <th>3</th>\n",
       "      <td>2011-09-07</td>\n",
       "      <td>0.0</td>\n",
       "      <td>59.72</td>\n",
       "      <td>61.98</td>\n",
       "      <td>9.91</td>\n",
       "      <td>0</td>\n",
       "      <td>60.850</td>\n",
       "    </tr>\n",
       "    <tr>\n",
       "      <th>4</th>\n",
       "      <td>2011-09-08</td>\n",
       "      <td>0.0</td>\n",
       "      <td>58.36</td>\n",
       "      <td>65.14</td>\n",
       "      <td>6.01</td>\n",
       "      <td>0</td>\n",
       "      <td>61.750</td>\n",
       "    </tr>\n",
       "  </tbody>\n",
       "</table>\n",
       "</div>"
      ],
      "text/plain": [
       "        date  accum    min    max  wind closed     mid\n",
       "0 2011-09-01    0.0  62.45  70.80  5.64      0  66.625\n",
       "1 2011-09-02    0.0  60.21  67.46  4.80      0  63.835\n",
       "2 2011-09-06    0.0  59.26  73.83  4.97      0  66.545\n",
       "3 2011-09-07    0.0  59.72  61.98  9.91      0  60.850\n",
       "4 2011-09-08    0.0  58.36  65.14  6.01      0  61.750"
      ]
     },
     "execution_count": 35,
     "metadata": {},
     "output_type": "execute_result"
    }
   ],
   "source": [
    "# You can add a new coulmn like so. \n",
    "# Here the new coulmn \"mid\" is equal to the avergage of the day's high and low temp.\n",
    "\n",
    "processed_table[\"mid\"] = (processed_table[\"min\"] + processed_table[\"max\"])/2\n",
    "print(\"row count:\",len(processed_table))\n",
    "processed_table.head()"
   ]
  },
  {
   "cell_type": "code",
   "execution_count": 36,
   "metadata": {
    "scrolled": false
   },
   "outputs": [
    {
     "name": "stdout",
     "output_type": "stream",
     "text": [
      "row count: 951\n"
     ]
    },
    {
     "data": {
      "text/html": [
       "<div>\n",
       "<style>\n",
       "    .dataframe thead tr:only-child th {\n",
       "        text-align: right;\n",
       "    }\n",
       "\n",
       "    .dataframe thead th {\n",
       "        text-align: left;\n",
       "    }\n",
       "\n",
       "    .dataframe tbody tr th {\n",
       "        vertical-align: top;\n",
       "    }\n",
       "</style>\n",
       "<table border=\"1\" class=\"dataframe\">\n",
       "  <thead>\n",
       "    <tr style=\"text-align: right;\">\n",
       "      <th></th>\n",
       "      <th>date</th>\n",
       "      <th>accum</th>\n",
       "      <th>min</th>\n",
       "      <th>max</th>\n",
       "      <th>wind</th>\n",
       "      <th>closed</th>\n",
       "      <th>mid</th>\n",
       "      <th>freezing</th>\n",
       "    </tr>\n",
       "  </thead>\n",
       "  <tbody>\n",
       "    <tr>\n",
       "      <th>0</th>\n",
       "      <td>2011-09-01</td>\n",
       "      <td>0.0</td>\n",
       "      <td>62.45</td>\n",
       "      <td>70.80</td>\n",
       "      <td>5.64</td>\n",
       "      <td>0</td>\n",
       "      <td>66.625</td>\n",
       "      <td>0</td>\n",
       "    </tr>\n",
       "    <tr>\n",
       "      <th>1</th>\n",
       "      <td>2011-09-02</td>\n",
       "      <td>0.0</td>\n",
       "      <td>60.21</td>\n",
       "      <td>67.46</td>\n",
       "      <td>4.80</td>\n",
       "      <td>0</td>\n",
       "      <td>63.835</td>\n",
       "      <td>0</td>\n",
       "    </tr>\n",
       "    <tr>\n",
       "      <th>2</th>\n",
       "      <td>2011-09-06</td>\n",
       "      <td>0.0</td>\n",
       "      <td>59.26</td>\n",
       "      <td>73.83</td>\n",
       "      <td>4.97</td>\n",
       "      <td>0</td>\n",
       "      <td>66.545</td>\n",
       "      <td>0</td>\n",
       "    </tr>\n",
       "    <tr>\n",
       "      <th>3</th>\n",
       "      <td>2011-09-07</td>\n",
       "      <td>0.0</td>\n",
       "      <td>59.72</td>\n",
       "      <td>61.98</td>\n",
       "      <td>9.91</td>\n",
       "      <td>0</td>\n",
       "      <td>60.850</td>\n",
       "      <td>0</td>\n",
       "    </tr>\n",
       "    <tr>\n",
       "      <th>4</th>\n",
       "      <td>2011-09-08</td>\n",
       "      <td>0.0</td>\n",
       "      <td>58.36</td>\n",
       "      <td>65.14</td>\n",
       "      <td>6.01</td>\n",
       "      <td>0</td>\n",
       "      <td>61.750</td>\n",
       "      <td>0</td>\n",
       "    </tr>\n",
       "  </tbody>\n",
       "</table>\n",
       "</div>"
      ],
      "text/plain": [
       "        date  accum    min    max  wind closed     mid  freezing\n",
       "0 2011-09-01    0.0  62.45  70.80  5.64      0  66.625         0\n",
       "1 2011-09-02    0.0  60.21  67.46  4.80      0  63.835         0\n",
       "2 2011-09-06    0.0  59.26  73.83  4.97      0  66.545         0\n",
       "3 2011-09-07    0.0  59.72  61.98  9.91      0  60.850         0\n",
       "4 2011-09-08    0.0  58.36  65.14  6.01      0  61.750         0"
      ]
     },
     "execution_count": 36,
     "metadata": {},
     "output_type": "execute_result"
    }
   ],
   "source": [
    "# If you want to make new coulmns based on some conditional statements, not equations,\n",
    "# there are actually a number of ways to do this, but a straight-forward method is as follows.\n",
    "# Create a new coulmn where all the cells contain the same value.\n",
    "\n",
    "processed_table[\"freezing\"] = 0\n",
    "print(\"row count:\",len(processed_table))\n",
    "processed_table.head()\n",
    "\n",
    "# Here all instances of the new coulmn contain a zero."
   ]
  },
  {
   "cell_type": "code",
   "execution_count": 37,
   "metadata": {
    "scrolled": false
   },
   "outputs": [
    {
     "data": {
      "text/html": [
       "<div>\n",
       "<style>\n",
       "    .dataframe thead tr:only-child th {\n",
       "        text-align: right;\n",
       "    }\n",
       "\n",
       "    .dataframe thead th {\n",
       "        text-align: left;\n",
       "    }\n",
       "\n",
       "    .dataframe tbody tr th {\n",
       "        vertical-align: top;\n",
       "    }\n",
       "</style>\n",
       "<table border=\"1\" class=\"dataframe\">\n",
       "  <thead>\n",
       "    <tr style=\"text-align: right;\">\n",
       "      <th></th>\n",
       "      <th>date</th>\n",
       "      <th>accum</th>\n",
       "      <th>min</th>\n",
       "      <th>max</th>\n",
       "      <th>wind</th>\n",
       "      <th>closed</th>\n",
       "      <th>mid</th>\n",
       "      <th>freezing</th>\n",
       "    </tr>\n",
       "  </thead>\n",
       "  <tbody>\n",
       "    <tr>\n",
       "      <th>0</th>\n",
       "      <td>2011-09-01</td>\n",
       "      <td>0.0</td>\n",
       "      <td>62.45</td>\n",
       "      <td>70.80</td>\n",
       "      <td>5.64</td>\n",
       "      <td>0</td>\n",
       "      <td>66.625</td>\n",
       "      <td>0</td>\n",
       "    </tr>\n",
       "    <tr>\n",
       "      <th>1</th>\n",
       "      <td>2011-09-02</td>\n",
       "      <td>0.0</td>\n",
       "      <td>60.21</td>\n",
       "      <td>67.46</td>\n",
       "      <td>4.80</td>\n",
       "      <td>0</td>\n",
       "      <td>63.835</td>\n",
       "      <td>0</td>\n",
       "    </tr>\n",
       "    <tr>\n",
       "      <th>2</th>\n",
       "      <td>2011-09-06</td>\n",
       "      <td>0.0</td>\n",
       "      <td>59.26</td>\n",
       "      <td>73.83</td>\n",
       "      <td>4.97</td>\n",
       "      <td>0</td>\n",
       "      <td>66.545</td>\n",
       "      <td>0</td>\n",
       "    </tr>\n",
       "    <tr>\n",
       "      <th>3</th>\n",
       "      <td>2011-09-07</td>\n",
       "      <td>0.0</td>\n",
       "      <td>59.72</td>\n",
       "      <td>61.98</td>\n",
       "      <td>9.91</td>\n",
       "      <td>0</td>\n",
       "      <td>60.850</td>\n",
       "      <td>0</td>\n",
       "    </tr>\n",
       "    <tr>\n",
       "      <th>4</th>\n",
       "      <td>2011-09-08</td>\n",
       "      <td>0.0</td>\n",
       "      <td>58.36</td>\n",
       "      <td>65.14</td>\n",
       "      <td>6.01</td>\n",
       "      <td>0</td>\n",
       "      <td>61.750</td>\n",
       "      <td>0</td>\n",
       "    </tr>\n",
       "  </tbody>\n",
       "</table>\n",
       "</div>"
      ],
      "text/plain": [
       "        date  accum    min    max  wind closed     mid  freezing\n",
       "0 2011-09-01    0.0  62.45  70.80  5.64      0  66.625         0\n",
       "1 2011-09-02    0.0  60.21  67.46  4.80      0  63.835         0\n",
       "2 2011-09-06    0.0  59.26  73.83  4.97      0  66.545         0\n",
       "3 2011-09-07    0.0  59.72  61.98  9.91      0  60.850         0\n",
       "4 2011-09-08    0.0  58.36  65.14  6.01      0  61.750         0"
      ]
     },
     "execution_count": 37,
     "metadata": {},
     "output_type": "execute_result"
    }
   ],
   "source": [
    "# The customize these new coulmns using the method decribed above for \n",
    "# replacing values in a column based on logic.\n",
    "\n",
    "processed_table.loc[processed_table['min'] <= 32, 'freezing'] = 1\n",
    "processed_table.head()"
   ]
  },
  {
   "cell_type": "code",
   "execution_count": 38,
   "metadata": {
    "scrolled": false
   },
   "outputs": [
    {
     "name": "stdout",
     "output_type": "stream",
     "text": [
      "row count: 951\n"
     ]
    },
    {
     "data": {
      "text/html": [
       "<div>\n",
       "<style>\n",
       "    .dataframe thead tr:only-child th {\n",
       "        text-align: right;\n",
       "    }\n",
       "\n",
       "    .dataframe thead th {\n",
       "        text-align: left;\n",
       "    }\n",
       "\n",
       "    .dataframe tbody tr th {\n",
       "        vertical-align: top;\n",
       "    }\n",
       "</style>\n",
       "<table border=\"1\" class=\"dataframe\">\n",
       "  <thead>\n",
       "    <tr style=\"text-align: right;\">\n",
       "      <th></th>\n",
       "      <th>date</th>\n",
       "      <th>accum</th>\n",
       "      <th>min</th>\n",
       "      <th>max</th>\n",
       "      <th>wind</th>\n",
       "      <th>closed</th>\n",
       "      <th>mid</th>\n",
       "      <th>freezing</th>\n",
       "      <th>cold_and_windy</th>\n",
       "    </tr>\n",
       "  </thead>\n",
       "  <tbody>\n",
       "    <tr>\n",
       "      <th>0</th>\n",
       "      <td>2011-09-01</td>\n",
       "      <td>0.0</td>\n",
       "      <td>62.45</td>\n",
       "      <td>70.80</td>\n",
       "      <td>5.64</td>\n",
       "      <td>0</td>\n",
       "      <td>66.625</td>\n",
       "      <td>0</td>\n",
       "      <td>0</td>\n",
       "    </tr>\n",
       "    <tr>\n",
       "      <th>1</th>\n",
       "      <td>2011-09-02</td>\n",
       "      <td>0.0</td>\n",
       "      <td>60.21</td>\n",
       "      <td>67.46</td>\n",
       "      <td>4.80</td>\n",
       "      <td>0</td>\n",
       "      <td>63.835</td>\n",
       "      <td>0</td>\n",
       "      <td>0</td>\n",
       "    </tr>\n",
       "    <tr>\n",
       "      <th>2</th>\n",
       "      <td>2011-09-06</td>\n",
       "      <td>0.0</td>\n",
       "      <td>59.26</td>\n",
       "      <td>73.83</td>\n",
       "      <td>4.97</td>\n",
       "      <td>0</td>\n",
       "      <td>66.545</td>\n",
       "      <td>0</td>\n",
       "      <td>0</td>\n",
       "    </tr>\n",
       "    <tr>\n",
       "      <th>3</th>\n",
       "      <td>2011-09-07</td>\n",
       "      <td>0.0</td>\n",
       "      <td>59.72</td>\n",
       "      <td>61.98</td>\n",
       "      <td>9.91</td>\n",
       "      <td>0</td>\n",
       "      <td>60.850</td>\n",
       "      <td>0</td>\n",
       "      <td>0</td>\n",
       "    </tr>\n",
       "    <tr>\n",
       "      <th>4</th>\n",
       "      <td>2011-09-08</td>\n",
       "      <td>0.0</td>\n",
       "      <td>58.36</td>\n",
       "      <td>65.14</td>\n",
       "      <td>6.01</td>\n",
       "      <td>0</td>\n",
       "      <td>61.750</td>\n",
       "      <td>0</td>\n",
       "      <td>0</td>\n",
       "    </tr>\n",
       "  </tbody>\n",
       "</table>\n",
       "</div>"
      ],
      "text/plain": [
       "        date  accum    min    max  wind closed     mid  freezing  \\\n",
       "0 2011-09-01    0.0  62.45  70.80  5.64      0  66.625         0   \n",
       "1 2011-09-02    0.0  60.21  67.46  4.80      0  63.835         0   \n",
       "2 2011-09-06    0.0  59.26  73.83  4.97      0  66.545         0   \n",
       "3 2011-09-07    0.0  59.72  61.98  9.91      0  60.850         0   \n",
       "4 2011-09-08    0.0  58.36  65.14  6.01      0  61.750         0   \n",
       "\n",
       "   cold_and_windy  \n",
       "0               0  \n",
       "1               0  \n",
       "2               0  \n",
       "3               0  \n",
       "4               0  "
      ]
     },
     "execution_count": 38,
     "metadata": {},
     "output_type": "execute_result"
    }
   ],
   "source": [
    "# Heck you can even string logic together. \n",
    "\n",
    "processed_table[\"cold_and_windy\"] = 0\n",
    "processed_table.loc[(processed_table['wind'] >= 5) & (processed_table['min'] <= 32), 'cold_and_windy'] = 1\n",
    "print(\"row count:\",len(processed_table))\n",
    "processed_table.head()"
   ]
  },
  {
   "cell_type": "code",
   "execution_count": 39,
   "metadata": {
    "scrolled": false
   },
   "outputs": [
    {
     "name": "stdout",
     "output_type": "stream",
     "text": [
      "row count: 951\n"
     ]
    },
    {
     "data": {
      "text/html": [
       "<div>\n",
       "<style>\n",
       "    .dataframe thead tr:only-child th {\n",
       "        text-align: right;\n",
       "    }\n",
       "\n",
       "    .dataframe thead th {\n",
       "        text-align: left;\n",
       "    }\n",
       "\n",
       "    .dataframe tbody tr th {\n",
       "        vertical-align: top;\n",
       "    }\n",
       "</style>\n",
       "<table border=\"1\" class=\"dataframe\">\n",
       "  <thead>\n",
       "    <tr style=\"text-align: right;\">\n",
       "      <th></th>\n",
       "      <th>date</th>\n",
       "      <th>accum</th>\n",
       "      <th>min</th>\n",
       "      <th>max</th>\n",
       "      <th>wind</th>\n",
       "      <th>closed</th>\n",
       "      <th>mid</th>\n",
       "      <th>freezing</th>\n",
       "      <th>cold_and_windy</th>\n",
       "      <th>days_passed</th>\n",
       "    </tr>\n",
       "  </thead>\n",
       "  <tbody>\n",
       "    <tr>\n",
       "      <th>0</th>\n",
       "      <td>2011-09-01</td>\n",
       "      <td>0.0</td>\n",
       "      <td>62.45</td>\n",
       "      <td>70.80</td>\n",
       "      <td>5.64</td>\n",
       "      <td>0</td>\n",
       "      <td>66.625</td>\n",
       "      <td>0</td>\n",
       "      <td>0</td>\n",
       "      <td>2351.0</td>\n",
       "    </tr>\n",
       "    <tr>\n",
       "      <th>1</th>\n",
       "      <td>2011-09-02</td>\n",
       "      <td>0.0</td>\n",
       "      <td>60.21</td>\n",
       "      <td>67.46</td>\n",
       "      <td>4.80</td>\n",
       "      <td>0</td>\n",
       "      <td>63.835</td>\n",
       "      <td>0</td>\n",
       "      <td>0</td>\n",
       "      <td>2350.0</td>\n",
       "    </tr>\n",
       "    <tr>\n",
       "      <th>2</th>\n",
       "      <td>2011-09-06</td>\n",
       "      <td>0.0</td>\n",
       "      <td>59.26</td>\n",
       "      <td>73.83</td>\n",
       "      <td>4.97</td>\n",
       "      <td>0</td>\n",
       "      <td>66.545</td>\n",
       "      <td>0</td>\n",
       "      <td>0</td>\n",
       "      <td>2346.0</td>\n",
       "    </tr>\n",
       "    <tr>\n",
       "      <th>3</th>\n",
       "      <td>2011-09-07</td>\n",
       "      <td>0.0</td>\n",
       "      <td>59.72</td>\n",
       "      <td>61.98</td>\n",
       "      <td>9.91</td>\n",
       "      <td>0</td>\n",
       "      <td>60.850</td>\n",
       "      <td>0</td>\n",
       "      <td>0</td>\n",
       "      <td>2345.0</td>\n",
       "    </tr>\n",
       "    <tr>\n",
       "      <th>4</th>\n",
       "      <td>2011-09-08</td>\n",
       "      <td>0.0</td>\n",
       "      <td>58.36</td>\n",
       "      <td>65.14</td>\n",
       "      <td>6.01</td>\n",
       "      <td>0</td>\n",
       "      <td>61.750</td>\n",
       "      <td>0</td>\n",
       "      <td>0</td>\n",
       "      <td>2344.0</td>\n",
       "    </tr>\n",
       "  </tbody>\n",
       "</table>\n",
       "</div>"
      ],
      "text/plain": [
       "        date  accum    min    max  wind closed     mid  freezing  \\\n",
       "0 2011-09-01    0.0  62.45  70.80  5.64      0  66.625         0   \n",
       "1 2011-09-02    0.0  60.21  67.46  4.80      0  63.835         0   \n",
       "2 2011-09-06    0.0  59.26  73.83  4.97      0  66.545         0   \n",
       "3 2011-09-07    0.0  59.72  61.98  9.91      0  60.850         0   \n",
       "4 2011-09-08    0.0  58.36  65.14  6.01      0  61.750         0   \n",
       "\n",
       "   cold_and_windy  days_passed  \n",
       "0               0       2351.0  \n",
       "1               0       2350.0  \n",
       "2               0       2346.0  \n",
       "3               0       2345.0  \n",
       "4               0       2344.0  "
      ]
     },
     "execution_count": 39,
     "metadata": {},
     "output_type": "execute_result"
    }
   ],
   "source": [
    "# Remember dates? Well you can work with those too. A full discription of how is beyound the scope of \n",
    "# this post, but for more you might want to look at https://docs.python.org/3/library/datetime.html\n",
    "# That being said, here's a glimps.\n",
    "\n",
    "# first you'll need this library\n",
    "from datetime import datetime, timedelta\n",
    "\n",
    "processed_table[\"days_passed\"] = (datetime.today() - pd.to_datetime(processed_table[\"date\"])).astype('timedelta64[D]')\n",
    "print(\"row count:\",len(processed_table))\n",
    "processed_table.head()\n",
    "\n",
    "# This just makes a new coulmn with number of days between today and the date in the date column. "
   ]
  },
  {
   "cell_type": "code",
   "execution_count": 40,
   "metadata": {
    "collapsed": true,
    "scrolled": false
   },
   "outputs": [],
   "source": [
    "# This is a little advanced (that means I'm not expecting you to understand\n",
    "# eveything that is about to happen), but let's create our own function. To do this, \n",
    "# type \"def\" followed by the name you want to give your function name, a parenthetical and a colon.\n",
    "# Inside the parenthetical type a varaible name that will be used within the\n",
    "# function to reference the data passed to it. More advanced functions can \n",
    "# have multiple variables.\n",
    "\n",
    "def yesterdays_high(row):\n",
    "    # Here we're thinking of row as one of the rows from our dataframe\n",
    "    \n",
    "    # Find yesterday's date by subtracting a day from the date column\n",
    "    yesterday = pd.to_datetime(row[\"date\"])-timedelta(days=1)\n",
    "    \n",
    "    # Let the munction now that we can access the processed_table dataframe\n",
    "    # This is because the variables defined outside a function aren't \n",
    "    # accessable by default.\n",
    "    global processed_table\n",
    "    \n",
    "    # If yesterday is after or equal to the earliest date in the dataframe, do a thing.\n",
    "    if yesterday >= processed_table[\"date\"].min():\n",
    "        # Set yesterday's max to that of the pervious day.\n",
    "        # I'm doing some weird stuff here, don't worry too much about it right now.\n",
    "        # but mostly, I'm setting yesterdays_max to equal the high 'yesterday'\n",
    "        yesterdays_max = str(processed_table.loc[processed_table['date'] == yesterday][\"max\"].tolist()).strip('[]')\n",
    "        \n",
    "    # If yesterday is before the earliest date in the dataframe, do a thing.\n",
    "    else:\n",
    "        # set yesterday's date to \"\"\n",
    "        yesterdays_max = \"\"\n",
    "\n",
    "    # return is a command telling the function to spit out what follows.\n",
    "    # so this is a statment meaning that when the function is called it will \n",
    "    # spit out yesterdays_max\n",
    "    return yesterdays_max\n",
    "\n",
    "# I'm not doing it here, but you can imagine tweaking the above to deal with yesterdays highs and lows. \n",
    "# What I'm thinking is something that takes in the row plus a variable directing it to look at highs or lows.\n",
    "# The production of such is left as an exercise for the reader. "
   ]
  },
  {
   "cell_type": "code",
   "execution_count": 41,
   "metadata": {
    "scrolled": false
   },
   "outputs": [
    {
     "name": "stdout",
     "output_type": "stream",
     "text": [
      "row count: 951\n"
     ]
    },
    {
     "data": {
      "text/html": [
       "<div>\n",
       "<style>\n",
       "    .dataframe thead tr:only-child th {\n",
       "        text-align: right;\n",
       "    }\n",
       "\n",
       "    .dataframe thead th {\n",
       "        text-align: left;\n",
       "    }\n",
       "\n",
       "    .dataframe tbody tr th {\n",
       "        vertical-align: top;\n",
       "    }\n",
       "</style>\n",
       "<table border=\"1\" class=\"dataframe\">\n",
       "  <thead>\n",
       "    <tr style=\"text-align: right;\">\n",
       "      <th></th>\n",
       "      <th>date</th>\n",
       "      <th>accum</th>\n",
       "      <th>min</th>\n",
       "      <th>max</th>\n",
       "      <th>wind</th>\n",
       "      <th>closed</th>\n",
       "      <th>mid</th>\n",
       "      <th>freezing</th>\n",
       "      <th>cold_and_windy</th>\n",
       "      <th>days_passed</th>\n",
       "      <th>yesterdays_high</th>\n",
       "    </tr>\n",
       "  </thead>\n",
       "  <tbody>\n",
       "    <tr>\n",
       "      <th>0</th>\n",
       "      <td>2011-09-01</td>\n",
       "      <td>0.0</td>\n",
       "      <td>62.45</td>\n",
       "      <td>70.80</td>\n",
       "      <td>5.64</td>\n",
       "      <td>0</td>\n",
       "      <td>66.625</td>\n",
       "      <td>0</td>\n",
       "      <td>0</td>\n",
       "      <td>2351.0</td>\n",
       "      <td></td>\n",
       "    </tr>\n",
       "    <tr>\n",
       "      <th>1</th>\n",
       "      <td>2011-09-02</td>\n",
       "      <td>0.0</td>\n",
       "      <td>60.21</td>\n",
       "      <td>67.46</td>\n",
       "      <td>4.80</td>\n",
       "      <td>0</td>\n",
       "      <td>63.835</td>\n",
       "      <td>0</td>\n",
       "      <td>0</td>\n",
       "      <td>2350.0</td>\n",
       "      <td>70.8</td>\n",
       "    </tr>\n",
       "    <tr>\n",
       "      <th>2</th>\n",
       "      <td>2011-09-06</td>\n",
       "      <td>0.0</td>\n",
       "      <td>59.26</td>\n",
       "      <td>73.83</td>\n",
       "      <td>4.97</td>\n",
       "      <td>0</td>\n",
       "      <td>66.545</td>\n",
       "      <td>0</td>\n",
       "      <td>0</td>\n",
       "      <td>2346.0</td>\n",
       "      <td></td>\n",
       "    </tr>\n",
       "    <tr>\n",
       "      <th>3</th>\n",
       "      <td>2011-09-07</td>\n",
       "      <td>0.0</td>\n",
       "      <td>59.72</td>\n",
       "      <td>61.98</td>\n",
       "      <td>9.91</td>\n",
       "      <td>0</td>\n",
       "      <td>60.850</td>\n",
       "      <td>0</td>\n",
       "      <td>0</td>\n",
       "      <td>2345.0</td>\n",
       "      <td>73.83</td>\n",
       "    </tr>\n",
       "    <tr>\n",
       "      <th>4</th>\n",
       "      <td>2011-09-08</td>\n",
       "      <td>0.0</td>\n",
       "      <td>58.36</td>\n",
       "      <td>65.14</td>\n",
       "      <td>6.01</td>\n",
       "      <td>0</td>\n",
       "      <td>61.750</td>\n",
       "      <td>0</td>\n",
       "      <td>0</td>\n",
       "      <td>2344.0</td>\n",
       "      <td>61.98</td>\n",
       "    </tr>\n",
       "  </tbody>\n",
       "</table>\n",
       "</div>"
      ],
      "text/plain": [
       "        date  accum    min    max  wind closed     mid  freezing  \\\n",
       "0 2011-09-01    0.0  62.45  70.80  5.64      0  66.625         0   \n",
       "1 2011-09-02    0.0  60.21  67.46  4.80      0  63.835         0   \n",
       "2 2011-09-06    0.0  59.26  73.83  4.97      0  66.545         0   \n",
       "3 2011-09-07    0.0  59.72  61.98  9.91      0  60.850         0   \n",
       "4 2011-09-08    0.0  58.36  65.14  6.01      0  61.750         0   \n",
       "\n",
       "   cold_and_windy  days_passed yesterdays_high  \n",
       "0               0       2351.0                  \n",
       "1               0       2350.0            70.8  \n",
       "2               0       2346.0                  \n",
       "3               0       2345.0           73.83  \n",
       "4               0       2344.0           61.98  "
      ]
     },
     "execution_count": 41,
     "metadata": {},
     "output_type": "execute_result"
    }
   ],
   "source": [
    "# Now that we have this new function, we can apply it to an entier dataframe\n",
    "# and use it's output to fill a new column\n",
    "\n",
    "processed_table[\"yesterdays_high\"] = processed_table.apply(yesterdays_high, axis=1)\n",
    "print(\"row count:\",len(processed_table))\n",
    "processed_table.head()"
   ]
  },
  {
   "cell_type": "code",
   "execution_count": 42,
   "metadata": {
    "scrolled": false
   },
   "outputs": [
    {
     "name": "stdout",
     "output_type": "stream",
     "text": [
      "row count: 951\n"
     ]
    },
    {
     "data": {
      "text/html": [
       "<div>\n",
       "<style>\n",
       "    .dataframe thead tr:only-child th {\n",
       "        text-align: right;\n",
       "    }\n",
       "\n",
       "    .dataframe thead th {\n",
       "        text-align: left;\n",
       "    }\n",
       "\n",
       "    .dataframe tbody tr th {\n",
       "        vertical-align: top;\n",
       "    }\n",
       "</style>\n",
       "<table border=\"1\" class=\"dataframe\">\n",
       "  <thead>\n",
       "    <tr style=\"text-align: right;\">\n",
       "      <th></th>\n",
       "      <th>accum</th>\n",
       "      <th>min</th>\n",
       "      <th>max</th>\n",
       "      <th>wind</th>\n",
       "      <th>yesterdays_high</th>\n",
       "      <th>closed</th>\n",
       "    </tr>\n",
       "  </thead>\n",
       "  <tbody>\n",
       "    <tr>\n",
       "      <th>0</th>\n",
       "      <td>0.0</td>\n",
       "      <td>62.45</td>\n",
       "      <td>70.80</td>\n",
       "      <td>5.64</td>\n",
       "      <td></td>\n",
       "      <td>0</td>\n",
       "    </tr>\n",
       "    <tr>\n",
       "      <th>1</th>\n",
       "      <td>0.0</td>\n",
       "      <td>60.21</td>\n",
       "      <td>67.46</td>\n",
       "      <td>4.80</td>\n",
       "      <td>70.8</td>\n",
       "      <td>0</td>\n",
       "    </tr>\n",
       "    <tr>\n",
       "      <th>2</th>\n",
       "      <td>0.0</td>\n",
       "      <td>59.26</td>\n",
       "      <td>73.83</td>\n",
       "      <td>4.97</td>\n",
       "      <td></td>\n",
       "      <td>0</td>\n",
       "    </tr>\n",
       "    <tr>\n",
       "      <th>3</th>\n",
       "      <td>0.0</td>\n",
       "      <td>59.72</td>\n",
       "      <td>61.98</td>\n",
       "      <td>9.91</td>\n",
       "      <td>73.83</td>\n",
       "      <td>0</td>\n",
       "    </tr>\n",
       "    <tr>\n",
       "      <th>4</th>\n",
       "      <td>0.0</td>\n",
       "      <td>58.36</td>\n",
       "      <td>65.14</td>\n",
       "      <td>6.01</td>\n",
       "      <td>61.98</td>\n",
       "      <td>0</td>\n",
       "    </tr>\n",
       "  </tbody>\n",
       "</table>\n",
       "</div>"
      ],
      "text/plain": [
       "   accum    min    max  wind yesterdays_high closed\n",
       "0    0.0  62.45  70.80  5.64                      0\n",
       "1    0.0  60.21  67.46  4.80            70.8      0\n",
       "2    0.0  59.26  73.83  4.97                      0\n",
       "3    0.0  59.72  61.98  9.91           73.83      0\n",
       "4    0.0  58.36  65.14  6.01           61.98      0"
      ]
     },
     "execution_count": 42,
     "metadata": {},
     "output_type": "execute_result"
    }
   ],
   "source": [
    "# Since we've played around a little lets trim our dataframe down a bit so \n",
    "# it only conatins those columns we really want (e.g., just numbers)\n",
    "\n",
    "processed_table = processed_table[[\n",
    "                                        'accum', \n",
    "                                        'min',\n",
    "                                        'max',\n",
    "                                        'wind',\n",
    "                                        'yesterdays_high',\n",
    "                                        'closed'\n",
    "                                     ]]\n",
    "print(\"row count:\",len(processed_table))\n",
    "processed_table.head()\n",
    "\n",
    "# Note, I didn't use '.copy()' like above because I'm fine with overwriting \n",
    "# the original (i.e., processed_table)"
   ]
  },
  {
   "cell_type": "markdown",
   "metadata": {},
   "source": [
    "## Make sure everything really is a number."
   ]
  },
  {
   "cell_type": "code",
   "execution_count": 43,
   "metadata": {
    "scrolled": false
   },
   "outputs": [
    {
     "data": {
      "text/plain": [
       "accum              float64\n",
       "min                float64\n",
       "max                float64\n",
       "wind               float64\n",
       "yesterdays_high     object\n",
       "closed              object\n",
       "dtype: object"
      ]
     },
     "execution_count": 43,
     "metadata": {},
     "output_type": "execute_result"
    }
   ],
   "source": [
    "processed_table.dtypes"
   ]
  },
  {
   "cell_type": "markdown",
   "metadata": {},
   "source": [
    "Remember how I said there were several types of numbers. Well, now it's worth talking about them. For our purposes, if you see `int64` or `float64` in a dataframe, it's a number. See [Data Types and Formats](http://www.datacarpentry.org/python-ecology-lesson/03-data-types-and-format/) for details. Remember, however, that `object` is pandas for `string`.\n",
    "\n",
    "How did this happen, when I look at the dataframe `yesterdays_high` and `closed` look like they're just numbers? Well, think about how we made them. `Closed` started its life containing \"yes\" and blank spaces. As for `yesterdays_high`, the function we used had to convert things into a string at one point. "
   ]
  },
  {
   "cell_type": "code",
   "execution_count": 44,
   "metadata": {
    "scrolled": false
   },
   "outputs": [
    {
     "name": "stdout",
     "output_type": "stream",
     "text": [
      "row count before drop: 951\n",
      "row count after drop: 739\n"
     ]
    },
    {
     "data": {
      "text/html": [
       "<div>\n",
       "<style>\n",
       "    .dataframe thead tr:only-child th {\n",
       "        text-align: right;\n",
       "    }\n",
       "\n",
       "    .dataframe thead th {\n",
       "        text-align: left;\n",
       "    }\n",
       "\n",
       "    .dataframe tbody tr th {\n",
       "        vertical-align: top;\n",
       "    }\n",
       "</style>\n",
       "<table border=\"1\" class=\"dataframe\">\n",
       "  <thead>\n",
       "    <tr style=\"text-align: right;\">\n",
       "      <th></th>\n",
       "      <th>accum</th>\n",
       "      <th>min</th>\n",
       "      <th>max</th>\n",
       "      <th>wind</th>\n",
       "      <th>yesterdays_high</th>\n",
       "      <th>closed</th>\n",
       "    </tr>\n",
       "  </thead>\n",
       "  <tbody>\n",
       "    <tr>\n",
       "      <th>1</th>\n",
       "      <td>0.0</td>\n",
       "      <td>60.21</td>\n",
       "      <td>67.46</td>\n",
       "      <td>4.80</td>\n",
       "      <td>70.80</td>\n",
       "      <td>0</td>\n",
       "    </tr>\n",
       "    <tr>\n",
       "      <th>3</th>\n",
       "      <td>0.0</td>\n",
       "      <td>59.72</td>\n",
       "      <td>61.98</td>\n",
       "      <td>9.91</td>\n",
       "      <td>73.83</td>\n",
       "      <td>0</td>\n",
       "    </tr>\n",
       "    <tr>\n",
       "      <th>4</th>\n",
       "      <td>0.0</td>\n",
       "      <td>58.36</td>\n",
       "      <td>65.14</td>\n",
       "      <td>6.01</td>\n",
       "      <td>61.98</td>\n",
       "      <td>0</td>\n",
       "    </tr>\n",
       "    <tr>\n",
       "      <th>5</th>\n",
       "      <td>0.0</td>\n",
       "      <td>60.61</td>\n",
       "      <td>77.83</td>\n",
       "      <td>5.21</td>\n",
       "      <td>65.14</td>\n",
       "      <td>0</td>\n",
       "    </tr>\n",
       "    <tr>\n",
       "      <th>7</th>\n",
       "      <td>0.0</td>\n",
       "      <td>65.55</td>\n",
       "      <td>82.86</td>\n",
       "      <td>8.69</td>\n",
       "      <td>80.11</td>\n",
       "      <td>0</td>\n",
       "    </tr>\n",
       "  </tbody>\n",
       "</table>\n",
       "</div>"
      ],
      "text/plain": [
       "   accum    min    max  wind  yesterdays_high  closed\n",
       "1    0.0  60.21  67.46  4.80            70.80       0\n",
       "3    0.0  59.72  61.98  9.91            73.83       0\n",
       "4    0.0  58.36  65.14  6.01            61.98       0\n",
       "5    0.0  60.61  77.83  5.21            65.14       0\n",
       "7    0.0  65.55  82.86  8.69            80.11       0"
      ]
     },
     "metadata": {},
     "output_type": "display_data"
    },
    {
     "data": {
      "text/plain": [
       "accum              float64\n",
       "min                float64\n",
       "max                float64\n",
       "wind               float64\n",
       "yesterdays_high    float64\n",
       "closed               int64\n",
       "dtype: object"
      ]
     },
     "execution_count": 44,
     "metadata": {},
     "output_type": "execute_result"
    }
   ],
   "source": [
    "# To make sure all of your columns are stored as numbers, use the pd.to_numeric method like so.\n",
    "# This will attempt to change everything into a number.\n",
    "processed_table = processed_table.apply(pd.to_numeric, errors='coerce')\n",
    "# errors='coerce' will set things that can't be converted to numbers to NaN\n",
    "# so you'll want to drop these like so.\n",
    "print(\"row count before drop:\",len(processed_table))\n",
    "processed_table = processed_table.dropna()\n",
    "print(\"row count after drop:\",len(processed_table))\n",
    "display(processed_table.head())\n",
    "processed_table.dtypes"
   ]
  },
  {
   "cell_type": "markdown",
   "metadata": {},
   "source": [
    "Okay, that seemed to do the trick. We did, however, lose some rows. Primarily these would have been those rows where we couldn't find yesterday's temp. "
   ]
  },
  {
   "cell_type": "markdown",
   "metadata": {},
   "source": [
    "# Linear Regression"
   ]
  },
  {
   "cell_type": "code",
   "execution_count": 45,
   "metadata": {
    "scrolled": false
   },
   "outputs": [
    {
     "data": {
      "text/html": [
       "<div>\n",
       "<style>\n",
       "    .dataframe thead tr:only-child th {\n",
       "        text-align: right;\n",
       "    }\n",
       "\n",
       "    .dataframe thead th {\n",
       "        text-align: left;\n",
       "    }\n",
       "\n",
       "    .dataframe tbody tr th {\n",
       "        vertical-align: top;\n",
       "    }\n",
       "</style>\n",
       "<table border=\"1\" class=\"dataframe\">\n",
       "  <thead>\n",
       "    <tr style=\"text-align: right;\">\n",
       "      <th></th>\n",
       "      <th>max</th>\n",
       "      <th>yesterdays_high</th>\n",
       "    </tr>\n",
       "  </thead>\n",
       "  <tbody>\n",
       "    <tr>\n",
       "      <th>1</th>\n",
       "      <td>67.46</td>\n",
       "      <td>70.80</td>\n",
       "    </tr>\n",
       "    <tr>\n",
       "      <th>3</th>\n",
       "      <td>61.98</td>\n",
       "      <td>73.83</td>\n",
       "    </tr>\n",
       "    <tr>\n",
       "      <th>4</th>\n",
       "      <td>65.14</td>\n",
       "      <td>61.98</td>\n",
       "    </tr>\n",
       "    <tr>\n",
       "      <th>5</th>\n",
       "      <td>77.83</td>\n",
       "      <td>65.14</td>\n",
       "    </tr>\n",
       "    <tr>\n",
       "      <th>7</th>\n",
       "      <td>82.86</td>\n",
       "      <td>80.11</td>\n",
       "    </tr>\n",
       "  </tbody>\n",
       "</table>\n",
       "</div>"
      ],
      "text/plain": [
       "     max  yesterdays_high\n",
       "1  67.46            70.80\n",
       "3  61.98            73.83\n",
       "4  65.14            61.98\n",
       "5  77.83            65.14\n",
       "7  82.86            80.11"
      ]
     },
     "execution_count": 45,
     "metadata": {},
     "output_type": "execute_result"
    }
   ],
   "source": [
    "# I'm now going to make a set of tables to be used in training some models.\n",
    "\n",
    "# Linear regression is used to perdict conntinuous values. So things that \n",
    "# fall on a number line. I know we talked earlier about predicting snow days, \n",
    "# but that's not a very good use case for liniar regression. It's designed for \n",
    "# predicting some number on a number line. Here' I'm going to try to perdict today's high\n",
    "# using yesterday's. So I'll need the target (max) and the feature (yesterdays_high)\n",
    "\n",
    "lin_df = processed_table[[\n",
    "                               'max',\n",
    "                               'yesterdays_high'\n",
    "                               ]].copy()\n",
    "lin_df.head()"
   ]
  },
  {
   "cell_type": "code",
   "execution_count": 46,
   "metadata": {
    "scrolled": false
   },
   "outputs": [
    {
     "data": {
      "text/plain": [
       "<seaborn.axisgrid.FacetGrid at 0x182fff98>"
      ]
     },
     "execution_count": 46,
     "metadata": {},
     "output_type": "execute_result"
    },
    {
     "data": {
      "image/png": "[encoded data removed]",
      "text/plain": [
       "<matplotlib.figure.Figure at 0x182ff080>"
      ]
     },
     "metadata": {},
     "output_type": "display_data"
    }
   ],
   "source": [
    "# If I want a really quick and dirty look at things, I can plot these two making use\n",
    "# of the seaborn library\n",
    "\n",
    "# load libary\n",
    "import seaborn as sns\n",
    "# Tell this notebook to display plots in the page\n",
    "%matplotlib inline\n",
    "# This library does fun math on arrays of numbers\n",
    "import numpy as np\n",
    "\n",
    "# run simple linar regression using seaborn\n",
    "sns.lmplot(x=\"yesterdays_high\", y=\"max\", data=lin_df, x_estimator=np.mean, order=1)"
   ]
  },
  {
   "cell_type": "markdown",
   "metadata": {},
   "source": [
    "In practice, we'd probably want to use more than one feature, but this one-to-one construction works well for an introduction. What we see is that yesterday's high is corelated with today's high. That is, as one goes up, the other does the same. For a more robust discussion of linear regression, check out [Uncovering Big Bias with Big Data](https://lawyerist.com/big-bias-big-data/). Actually, you should read that and come back. It will help set up what follows.\n",
    "\n",
    "Okay, what about overfitting? Yep, I'm using a vocabulary word from the [reading](https://lawyerist.com/big-bias-big-data/). To address that concern let's do a proper training of the data using training and holdout dataframes. That is, we'll set some amount of the data aside (holdout), train our model on what remains, and then check and see how the model does on the data it hasn't seen. "
   ]
  },
  {
   "cell_type": "code",
   "execution_count": 47,
   "metadata": {
    "scrolled": false
   },
   "outputs": [
    {
     "name": "stdout",
     "output_type": "stream",
     "text": [
      "size of training 591\n"
     ]
    }
   ],
   "source": [
    "# create a dataframe containing a random sample of lin_df rows\n",
    "lin_holdout = lin_df.sample(frac=0.20) # 0.20 = 20%\n",
    "\n",
    "# create a dataframe that conatins the rows from lin_df except for those in lin_holdout\n",
    "lin_training = lin_df.loc[~lin_df.index.isin(lin_holdout.index)]\n",
    "\n",
    "print(\"size of training\",len(lin_training))"
   ]
  },
  {
   "cell_type": "code",
   "execution_count": 48,
   "metadata": {
    "scrolled": false
   },
   "outputs": [
    {
     "data": {
      "text/html": [
       "<table class=\"simpletable\">\n",
       "<caption>OLS Regression Results</caption>\n",
       "<tr>\n",
       "  <th>Dep. Variable:</th>           <td>max</td>       <th>  R-squared:         </th> <td>   0.709</td> \n",
       "</tr>\n",
       "<tr>\n",
       "  <th>Model:</th>                   <td>OLS</td>       <th>  Adj. R-squared:    </th> <td>   0.709</td> \n",
       "</tr>\n",
       "<tr>\n",
       "  <th>Method:</th>             <td>Least Squares</td>  <th>  F-statistic:       </th> <td>   1436.</td> \n",
       "</tr>\n",
       "<tr>\n",
       "  <th>Date:</th>             <td>Wed, 07 Feb 2018</td> <th>  Prob (F-statistic):</th> <td>4.25e-160</td>\n",
       "</tr>\n",
       "<tr>\n",
       "  <th>Time:</th>                 <td>16:36:23</td>     <th>  Log-Likelihood:    </th> <td> -2061.2</td> \n",
       "</tr>\n",
       "<tr>\n",
       "  <th>No. Observations:</th>      <td>   591</td>      <th>  AIC:               </th> <td>   4126.</td> \n",
       "</tr>\n",
       "<tr>\n",
       "  <th>Df Residuals:</th>          <td>   589</td>      <th>  BIC:               </th> <td>   4135.</td> \n",
       "</tr>\n",
       "<tr>\n",
       "  <th>Df Model:</th>              <td>     1</td>      <th>                     </th>     <td> </td>    \n",
       "</tr>\n",
       "<tr>\n",
       "  <th>Covariance Type:</th>      <td>nonrobust</td>    <th>                     </th>     <td> </td>    \n",
       "</tr>\n",
       "</table>\n",
       "<table class=\"simpletable\">\n",
       "<tr>\n",
       "         <td></td>            <th>coef</th>     <th>std err</th>      <th>t</th>      <th>P>|t|</th>  <th>[0.025</th>    <th>0.975]</th>  \n",
       "</tr>\n",
       "<tr>\n",
       "  <th>Intercept</th>       <td>    8.1865</td> <td>    1.229</td> <td>    6.660</td> <td> 0.000</td> <td>    5.772</td> <td>   10.601</td>\n",
       "</tr>\n",
       "<tr>\n",
       "  <th>yesterdays_high</th> <td>    0.8386</td> <td>    0.022</td> <td>   37.899</td> <td> 0.000</td> <td>    0.795</td> <td>    0.882</td>\n",
       "</tr>\n",
       "</table>\n",
       "<table class=\"simpletable\">\n",
       "<tr>\n",
       "  <th>Omnibus:</th>       <td> 3.585</td> <th>  Durbin-Watson:     </th> <td>   2.014</td>\n",
       "</tr>\n",
       "<tr>\n",
       "  <th>Prob(Omnibus):</th> <td> 0.167</td> <th>  Jarque-Bera (JB):  </th> <td>   3.852</td>\n",
       "</tr>\n",
       "<tr>\n",
       "  <th>Skew:</th>          <td>-0.085</td> <th>  Prob(JB):          </th> <td>   0.146</td>\n",
       "</tr>\n",
       "<tr>\n",
       "  <th>Kurtosis:</th>      <td> 3.357</td> <th>  Cond. No.          </th> <td>    209.</td>\n",
       "</tr>\n",
       "</table>"
      ],
      "text/plain": [
       "<class 'statsmodels.iolib.summary.Summary'>\n",
       "\"\"\"\n",
       "                            OLS Regression Results                            \n",
       "==============================================================================\n",
       "Dep. Variable:                    max   R-squared:                       0.709\n",
       "Model:                            OLS   Adj. R-squared:                  0.709\n",
       "Method:                 Least Squares   F-statistic:                     1436.\n",
       "Date:                Wed, 07 Feb 2018   Prob (F-statistic):          4.25e-160\n",
       "Time:                        16:36:23   Log-Likelihood:                -2061.2\n",
       "No. Observations:                 591   AIC:                             4126.\n",
       "Df Residuals:                     589   BIC:                             4135.\n",
       "Df Model:                           1                                         \n",
       "Covariance Type:            nonrobust                                         \n",
       "===================================================================================\n",
       "                      coef    std err          t      P>|t|      [0.025      0.975]\n",
       "-----------------------------------------------------------------------------------\n",
       "Intercept           8.1865      1.229      6.660      0.000       5.772      10.601\n",
       "yesterdays_high     0.8386      0.022     37.899      0.000       0.795       0.882\n",
       "==============================================================================\n",
       "Omnibus:                        3.585   Durbin-Watson:                   2.014\n",
       "Prob(Omnibus):                  0.167   Jarque-Bera (JB):                3.852\n",
       "Skew:                          -0.085   Prob(JB):                        0.146\n",
       "Kurtosis:                       3.357   Cond. No.                         209.\n",
       "==============================================================================\n",
       "\n",
       "Warnings:\n",
       "[1] Standard Errors assume that the covariance matrix of the errors is correctly specified.\n",
       "\"\"\""
      ]
     },
     "execution_count": 48,
     "metadata": {},
     "output_type": "execute_result"
    }
   ],
   "source": [
    "# I like the statsmodels regression libary because it comes with a nice summary.\n",
    "# So let's load the library and run the regression on our training data. \n",
    "\n",
    "from statsmodels.formula.api import ols\n",
    "\n",
    "model = ols(\"max ~ yesterdays_high\", lin_training).fit()\n",
    "model.summary()"
   ]
  },
  {
   "cell_type": "markdown",
   "metadata": {},
   "source": [
    "There are two main numbers we're looking at the R-squared and the P-values. For more on these, consult [Uncovering Big Bias with Big Data](https://lawyerist.com/big-bias-big-data/). \n",
    "\n",
    "We have yet to check the model against our holdout data, and it so happens that another implemenation of the linear regression algo can be found over at scikitlearn. It also makes evaluating against the holdout data rather simple. "
   ]
  },
  {
   "cell_type": "code",
   "execution_count": 62,
   "metadata": {
    "scrolled": false
   },
   "outputs": [
    {
     "name": "stdout",
     "output_type": "stream",
     "text": [
      "R squared (training): 0.7091801870703427\n",
      "Variance score (test): 0.7247899078060827\n"
     ]
    }
   ],
   "source": [
    "# Rerun with SciKitLearn because it's easy to check accuracy\n",
    "\n",
    "from sklearn import linear_model\n",
    "from sklearn import metrics\n",
    "\n",
    "# make a training dataframe containing just features\n",
    "features_train = lin_training.drop(\"max\", axis=1).as_matrix(columns=None)\n",
    "\n",
    "# make a training dataframe containing only the target\n",
    "target_train = lin_training[\"max\"].as_matrix(columns=None)\n",
    "\n",
    "# make a testing/holdout dataframe containing just features\n",
    "features_test = lin_holdout.drop(\"max\", axis=1).as_matrix(columns=None)\n",
    "\n",
    "# make a testing/holdout dataframe containing only the target\n",
    "target_test = lin_holdout[\"max\"].as_matrix(columns=None)\n",
    "\n",
    "# run the regresion\n",
    "lm = linear_model.LinearRegression()\n",
    "reg = lm.fit(features_train, target_train)\n",
    "print(\"R squared (training):\",lm.score(features_train,target_train)) # this sould be the same as above\n",
    "\n",
    "# create a dataframe of predictions based on the test features\n",
    "pred = reg.predict(features_test)\n",
    "# compare these predictions to the actual values\n",
    "variance = metrics.r2_score(target_test, pred)\n",
    "print(\"Variance score (test):\",variance)"
   ]
  },
  {
   "cell_type": "markdown",
   "metadata": {},
   "source": [
    "# Classifiers"
   ]
  },
  {
   "cell_type": "code",
   "execution_count": 50,
   "metadata": {
    "scrolled": false
   },
   "outputs": [
    {
     "data": {
      "text/html": [
       "<div>\n",
       "<style>\n",
       "    .dataframe thead tr:only-child th {\n",
       "        text-align: right;\n",
       "    }\n",
       "\n",
       "    .dataframe thead th {\n",
       "        text-align: left;\n",
       "    }\n",
       "\n",
       "    .dataframe tbody tr th {\n",
       "        vertical-align: top;\n",
       "    }\n",
       "</style>\n",
       "<table border=\"1\" class=\"dataframe\">\n",
       "  <thead>\n",
       "    <tr style=\"text-align: right;\">\n",
       "      <th></th>\n",
       "      <th>accum</th>\n",
       "      <th>min</th>\n",
       "      <th>max</th>\n",
       "      <th>closed</th>\n",
       "    </tr>\n",
       "  </thead>\n",
       "  <tbody>\n",
       "    <tr>\n",
       "      <th>1</th>\n",
       "      <td>0.0</td>\n",
       "      <td>60.21</td>\n",
       "      <td>67.46</td>\n",
       "      <td>0</td>\n",
       "    </tr>\n",
       "    <tr>\n",
       "      <th>3</th>\n",
       "      <td>0.0</td>\n",
       "      <td>59.72</td>\n",
       "      <td>61.98</td>\n",
       "      <td>0</td>\n",
       "    </tr>\n",
       "    <tr>\n",
       "      <th>4</th>\n",
       "      <td>0.0</td>\n",
       "      <td>58.36</td>\n",
       "      <td>65.14</td>\n",
       "      <td>0</td>\n",
       "    </tr>\n",
       "    <tr>\n",
       "      <th>5</th>\n",
       "      <td>0.0</td>\n",
       "      <td>60.61</td>\n",
       "      <td>77.83</td>\n",
       "      <td>0</td>\n",
       "    </tr>\n",
       "    <tr>\n",
       "      <th>7</th>\n",
       "      <td>0.0</td>\n",
       "      <td>65.55</td>\n",
       "      <td>82.86</td>\n",
       "      <td>0</td>\n",
       "    </tr>\n",
       "  </tbody>\n",
       "</table>\n",
       "</div>"
      ],
      "text/plain": [
       "   accum    min    max  closed\n",
       "1    0.0  60.21  67.46       0\n",
       "3    0.0  59.72  61.98       0\n",
       "4    0.0  58.36  65.14       0\n",
       "5    0.0  60.61  77.83       0\n",
       "7    0.0  65.55  82.86       0"
      ]
     },
     "execution_count": 50,
     "metadata": {},
     "output_type": "execute_result"
    }
   ],
   "source": [
    "# Now let's get back to predicting snow days. For that I want a table that looks like this. \n",
    "# Note: the question of what features to include is beyound the scope of this post. \n",
    "# We'll just say these all look like they could help predict a snow day.\n",
    "\n",
    "class_df = processed_table[[\n",
    "                               'accum', \n",
    "                               'min', \n",
    "                               'max',\n",
    "                               'closed'\n",
    "                               ]].copy()\n",
    "class_df.head()"
   ]
  },
  {
   "cell_type": "code",
   "execution_count": 51,
   "metadata": {
    "collapsed": true,
    "scrolled": false
   },
   "outputs": [],
   "source": [
    "# Here's a little function to help evaluate how good our classifiers are. \n",
    "# It produces something equivlent to a confusion matrix. See https://en.wikipedia.org/wiki/Confusion_matrix\n",
    "\n",
    "# I'll need these libaries to make it work\n",
    "from sklearn.metrics import accuracy_score\n",
    "from sklearn.metrics import confusion_matrix\n",
    "\n",
    "def evaluate(pred, labels_test):\n",
    "    acc = accuracy_score(pred, labels_test)\n",
    "    print (\"Accuracey: %s\"%acc)\n",
    "    tn, fp, fn, tp = confusion_matrix(labels_test, pred).ravel()\n",
    "\n",
    "    recall = tp / (tp + fp)\n",
    "    percision = tp / (tp + fn)\n",
    "    f1 = (2 / ((1/recall)+(1/percision)))\n",
    "\n",
    "    print (\"\")\n",
    "    print (\"True Negatives: %s\"%tn)\n",
    "    print (\"False Positives: %s\"%fp)\n",
    "    print (\"False Negatives: %s\"%fn)\n",
    "    print (\"True Positives: %s\"%tp)\n",
    "    print (\"Recall: %s\"%recall)\n",
    "    print (\"Precision: %s\"%percision)\n",
    "    print (\"F1 Score: %s\"%f1)"
   ]
  },
  {
   "cell_type": "code",
   "execution_count": 52,
   "metadata": {
    "scrolled": false
   },
   "outputs": [
    {
     "name": "stdout",
     "output_type": "stream",
     "text": [
      "size of training 591\n"
     ]
    }
   ],
   "source": [
    "# create a dataframe containing a random sample of lin_df rows\n",
    "class_holdout = class_df.sample(frac=0.20)\n",
    "\n",
    "# create a dataframe that conatins the rows from lin_df except for those in lin_holdout\n",
    "class_training = class_df.loc[~class_df.index.isin(class_holdout.index)]\n",
    "\n",
    "# make a training dataframe containing just features\n",
    "features_train = class_training.drop(\"closed\", axis=1).as_matrix(columns=None)\n",
    "\n",
    "# make a training dataframe containing only the target\n",
    "labels_train = class_training[\"closed\"].as_matrix(columns=None)\n",
    "\n",
    "# make a testing/holdout dataframe containing just features\n",
    "features_test = class_holdout.drop(\"closed\", axis=1).as_matrix(columns=None)\n",
    "\n",
    "# make a testing/holdout dataframe containing only the target\n",
    "labels_test = class_holdout[\"closed\"].as_matrix(columns=None)\n",
    "\n",
    "print(\"size of training\",len(class_training))"
   ]
  },
  {
   "cell_type": "code",
   "execution_count": 53,
   "metadata": {
    "scrolled": false
   },
   "outputs": [
    {
     "name": "stdout",
     "output_type": "stream",
     "text": [
      "Percentage of 1s: 0.017591339648173207\n",
      "\n"
     ]
    }
   ],
   "source": [
    "# What percentage of the time is target 1?\n",
    "print(\"Percentage of 1s: %s\\n\"%(len(class_df[class_df[\"closed\"]==1])/len(class_df)))\n",
    "\n",
    "# This is a useful question because it helps us not be overly impressed by the accuracey of our models. \n",
    "# How? Well, apparently, if I always guessed that we wouldn't have a snow day I'd be right ~97% of the time."
   ]
  },
  {
   "cell_type": "markdown",
   "metadata": {},
   "source": [
    "What follows is the feeding or our data to a bunch of different classification algoritums. The \"best\" models will have the highest F1 score. At least, that's how we'll define best at the moment. Note, they may or may not work depending on the contents of your training data. Since there are so few school closings, it's possible you won't get enough of them in the training data for the algos to work. When this happens you'll likely see a pink error message with something like \"divide by zero encountered.\" If this happens, just rerun the cell above where you create the training and holdout dataframes. When you use bigger datasets this shouldn't be an issue. "
   ]
  },
  {
   "cell_type": "code",
   "execution_count": 54,
   "metadata": {
    "scrolled": false
   },
   "outputs": [
    {
     "name": "stdout",
     "output_type": "stream",
     "text": [
      "Logistic Regression\n",
      "Accuracey: 0.9662162162162162\n",
      "\n",
      "True Negatives: 141\n",
      "False Positives: 1\n",
      "False Negatives: 4\n",
      "True Positives: 2\n",
      "Recall: 0.6666666666666666\n",
      "Precision: 0.3333333333333333\n",
      "F1 Score: 0.4444444444444444\n"
     ]
    }
   ],
   "source": [
    "from sklearn.linear_model import LogisticRegression\n",
    "# Logistic Regression\n",
    "model = LogisticRegression(fit_intercept = False, C = 1e9)\n",
    "clf_1 = model.fit(features_train, labels_train)\n",
    "pred = clf_1.predict(features_test)\n",
    "print(\"Logistic Regression\")\n",
    "evaluate(pred, labels_test)  "
   ]
  },
  {
   "cell_type": "code",
   "execution_count": 55,
   "metadata": {
    "scrolled": false
   },
   "outputs": [
    {
     "name": "stdout",
     "output_type": "stream",
     "text": [
      "\n",
      "Decision Tree\n",
      "Accuracey: 0.9864864864864865\n",
      "\n",
      "True Negatives: 141\n",
      "False Positives: 1\n",
      "False Negatives: 1\n",
      "True Positives: 5\n",
      "Recall: 0.8333333333333334\n",
      "Precision: 0.8333333333333334\n",
      "F1 Score: 0.8333333333333334\n"
     ]
    }
   ],
   "source": [
    "from sklearn import tree\n",
    "clf_2 = tree.DecisionTreeClassifier(min_samples_split=40)\n",
    "clf_2 = clf_2.fit(features_train, labels_train)\n",
    "pred = clf_2.predict(features_test)\n",
    "print(\"\\nDecision Tree\")\n",
    "evaluate(pred, labels_test)"
   ]
  },
  {
   "cell_type": "code",
   "execution_count": 56,
   "metadata": {
    "scrolled": false
   },
   "outputs": [
    {
     "name": "stdout",
     "output_type": "stream",
     "text": [
      "Random Forest\n",
      "Accuracey: 0.9797297297297297\n",
      "\n",
      "True Negatives: 142\n",
      "False Positives: 0\n",
      "False Negatives: 3\n",
      "True Positives: 3\n",
      "Recall: 1.0\n",
      "Precision: 0.5\n",
      "F1 Score: 0.6666666666666666\n"
     ]
    }
   ],
   "source": [
    "from sklearn.ensemble import RandomForestClassifier\n",
    "clf_3 = RandomForestClassifier()\n",
    "clf_3 = clf_3.fit(features_train, labels_train)\n",
    "pred = clf_3.predict(features_test)\n",
    "print(\"Random Forest\")\n",
    "evaluate(pred, labels_test)  "
   ]
  },
  {
   "cell_type": "code",
   "execution_count": 57,
   "metadata": {
    "scrolled": false
   },
   "outputs": [
    {
     "name": "stdout",
     "output_type": "stream",
     "text": [
      "SVM\n",
      "Accuracey: 0.9594594594594594\n",
      "\n",
      "True Negatives: 142\n",
      "False Positives: 0\n",
      "False Negatives: 6\n",
      "True Positives: 0\n",
      "Recall: nan\n",
      "Precision: 0.0\n",
      "F1 Score: nan\n"
     ]
    },
    {
     "name": "stderr",
     "output_type": "stream",
     "text": [
      "C:\\Users\\dcolarusso\\AppData\\Local\\Continuum\\anaconda3\\lib\\site-packages\\ipykernel_launcher.py:13: RuntimeWarning: invalid value encountered in longlong_scalars\n",
      "  del sys.path[0]\n",
      "C:\\Users\\dcolarusso\\AppData\\Local\\Continuum\\anaconda3\\lib\\site-packages\\ipykernel_launcher.py:15: RuntimeWarning: divide by zero encountered in double_scalars\n",
      "  from ipykernel import kernelapp as app\n"
     ]
    }
   ],
   "source": [
    "from sklearn.svm import SVC\n",
    "clf_4 = SVC(kernel=\"rbf\",probability=True)\n",
    "clf_4 = clf_4.fit(features_train, labels_train)\n",
    "pred = clf_4.predict(features_test)\n",
    "print(\"SVM\")\n",
    "evaluate(pred, labels_test)  "
   ]
  },
  {
   "cell_type": "code",
   "execution_count": 58,
   "metadata": {
    "scrolled": false
   },
   "outputs": [
    {
     "name": "stdout",
     "output_type": "stream",
     "text": [
      "Model's Guess: 1\n",
      "Probabilty the guess is right: 0.6666666666666666\n"
     ]
    }
   ],
   "source": [
    "# To actually use your models use '.predict()'. \n",
    "# All you do is pass a list of feature values. \n",
    "# You can actually pass a multi-dimensional array of \n",
    "# values (basicly a table), but here we'll limit ourselves\n",
    "# to a simple list. The ability to pass an array however, \n",
    "# is why you see bracketed numbers after '.predict()'\n",
    "# That's telling the output to only focus on the bits \n",
    "# we want. \n",
    "\n",
    "# What classifier do you want to use? Above, each one is \n",
    "# given it's own number (e.g., clf_1, clf_2, etc.)\n",
    "clf = clf_2\n",
    "\n",
    "# Set the values for each of the above features\n",
    "# accum, min, max\n",
    "inputs = [5,32,45]\n",
    "\n",
    "guess = clf.predict([inputs])[0]\n",
    "print(\"Model's Guess:\",guess)\n",
    "\n",
    "if guess == 0:\n",
    "    probablity = clf.predict_proba([inputs])[0][0]\n",
    "else:\n",
    "    probablity = clf.predict_proba([inputs])[0][1]\n",
    "    \n",
    "print(\"Probabilty the guess is right:\",probablity)"
   ]
  },
  {
   "cell_type": "markdown",
   "metadata": {},
   "source": [
    "## The Classifier Challenge\n",
    "\n",
    "Download the following two tables. \n",
    "\n",
    "- [people.csv](https://suffolklitlab.github.io/data_sci_workflow/people.csv)\n",
    "- [calls.csv](https://suffolklitlab.github.io/data_sci_workflow/calls.csv)\n",
    "\n",
    "Creat a new notebook where you: (1) clean the data; (2) do some feature engeneering if you think it's needed; and (3) train a classifier that predicts if the firm will take a case. That is, the `take` column would have a \"yes\" in it. \n",
    "\n",
    "I'll give an \"prize\" to the person who can build the best classifier. Where the best is defiend as the classifier with the highest F1 score when run on a set of new data none of you have seen. \n",
    "\n",
    "Since you may create features that others won't, each of your models may use different features. So I need a notebook file form you to replicate your cleaning and feature engineering. After you train your model, create a copy of your notebook and remove everything after your data wrangling. Then add the following code to save cleaned data to a csv file. Name this notebook something like \"[your name]_wrangle.ipynb\".\n",
    "\n",
    "**Make sure that your target coulm is still called \"take\".**"
   ]
  },
  {
   "cell_type": "code",
   "execution_count": 76,
   "metadata": {
    "scrolled": false
   },
   "outputs": [],
   "source": [
    "# I'm assuming that your cleaned dataframe is called class_df, \n",
    "# but you could change that.\n",
    "\n",
    "your_name = \"janedoe\" # Edit this to be your name.\n",
    "class_df.to_csv(\"%s.csv\"%your_name, index_label=False) \n",
    "\n",
    "# This will save the class_df dataframe to a file named \n",
    "# something like \"janedoe.csv\" that being said, we won't run this \n",
    "# code until your notebook is needed to clean the new competition data"
   ]
  },
  {
   "cell_type": "markdown",
   "metadata": {},
   "source": [
    "Now go back to your main notebook and **ADD AND RUN** the following."
   ]
  },
  {
   "cell_type": "code",
   "execution_count": 65,
   "metadata": {
    "collapsed": true,
    "scrolled": false
   },
   "outputs": [],
   "source": [
    "import pickle\n",
    "\n",
    "# save dataframe to file\n",
    "yourname = \"janedoe\" #change this to your name\n",
    "model = clf_1 # change this to be the model you want to enter (e.g. clf_1, clf_2, etc. in the example above)\n",
    "pickle.dump(model,open(\"%s_model.pickle\"%yourname, 'wb'))"
   ]
  },
  {
   "cell_type": "markdown",
   "metadata": {},
   "source": [
    "This will save your model to a file named something like `janedoe_model.pickle`. Drop both this file (e.g., `janedoe_model.pickle`) and the wrangling notebook (e.g., `[your name]_wrangle.ipynb`) in our slack channel. \n",
    "\n",
    "To score your models, I will use \"[your name]\\_wrangle.ipynb\" to load and clean a new set of synthetic data. I will then load your model and run it on this new data with the following code."
   ]
  },
  {
   "cell_type": "code",
   "execution_count": null,
   "metadata": {},
   "outputs": [],
   "source": [
    "yourname = \"janedoe\" # swapping out your name of course\n",
    "\n",
    "data = pd.read_csv(\"%s.csv\"%your_name) \n",
    "\n",
    "#data = data.drop('Unnamed: 0', 1) # this is here because I forgot to include index_lable=False in the original code above. So I may need to clear this out\n",
    "\n",
    "features = data.drop(\"closed\", axis=1).as_matrix(columns=None)\n",
    "labels = data[\"closed\"].as_matrix(columns=None)\n",
    "\n",
    "pred_model = pickle.load(open(\"%s_model.pickle\"%yourname, 'rb'))\n",
    "\n",
    "pred = clf_4.predict(features)\n",
    "evaluate(pred, labels) "
   ]
  }
 ],
 "metadata": {
  "kernelspec": {
   "display_name": "Python 3",
   "language": "python",
   "name": "python3"
  },
  "language_info": {
   "codemirror_mode": {
    "name": "ipython",
    "version": 3
   },
   "file_extension": ".py",
   "mimetype": "text/x-python",
   "name": "python",
   "nbconvert_exporter": "python",
   "pygments_lexer": "ipython3",
   "version": "3.6.2"
  }
 },
 "nbformat": 4,
 "nbformat_minor": 2
}
